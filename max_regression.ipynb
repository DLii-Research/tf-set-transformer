{
 "cells": [
  {
   "cell_type": "markdown",
   "id": "db4a328c",
   "metadata": {
    "tags": []
   },
   "source": [
    "# Max Regression\n",
    "\n",
    "A demo of the toy max-regression problem from the paper."
   ]
  },
  {
   "cell_type": "code",
   "execution_count": 1,
   "id": "4198c41f",
   "metadata": {},
   "outputs": [],
   "source": [
    "import matplotlib.pyplot as plt\n",
    "import numpy as np\n",
    "import tensorflow as tf\n",
    "import tensorflow.keras as keras\n",
    "\n",
    "import settransformer as stf"
   ]
  },
  {
   "cell_type": "markdown",
   "id": "fb645b7b",
   "metadata": {
    "tags": []
   },
   "source": [
    "## Model\n",
    "\n",
    "This model learns to approximate the largest number in the given set of numbers, regardless of the order presented."
   ]
  },
  {
   "cell_type": "code",
   "execution_count": 6,
   "id": "1ec3c8ae",
   "metadata": {
    "tags": []
   },
   "outputs": [],
   "source": [
    "class MaxRegressionSetTransformer(keras.models.Model):\n",
    "    def __init__(self, use_keras_mha=False, layernorm=False):\n",
    "        super(MaxRegressionSetTransformer, self).__init__()\n",
    "        \n",
    "        # Encoder\n",
    "        inp = keras.layers.Input((None, 1))\n",
    "        out = keras.layers.Dense(64)(inp)\n",
    "        # out = stf.SetAttentionBlock(64, 4)(out)\n",
    "        # out = stf.SetAttentionBlock(64, 4)(out)\n",
    "        out = stf.SetAttentionBlock(64, 4, use_keras_mha=use_keras_mha, layernorm=layernorm)(out)\n",
    "        out = stf.SetAttentionBlock(64, 4, use_keras_mha=use_keras_mha, layernorm=layernorm)(out)\n",
    "        self.encoder = keras.models.Model(inp, out)\n",
    "        \n",
    "        # Decoder\n",
    "        inp = keras.layers.Input((None, 64))\n",
    "        out = stf.PoolingByMultiHeadAttention(1, 64, 1, use_keras_mha=use_keras_mha, layernorm=layernorm)(inp)\n",
    "        # out = stf.PoolingByMultiHeadAttention(1, 64, 1)(inp)\n",
    "        out = keras.layers.Dense(1)(out)\n",
    "        self.decoder = keras.models.Model(inp, out)\n",
    "        \n",
    "    def call(self, x):\n",
    "        return tf.squeeze(self.decoder(self.encoder(x)))"
   ]
  },
  {
   "cell_type": "markdown",
   "id": "d7de36a5",
   "metadata": {},
   "source": [
    "---\n",
    "## Data Generation\n",
    "\n",
    "The following function generates a batch sets, each consisting of *length* numbers."
   ]
  },
  {
   "cell_type": "code",
   "execution_count": 7,
   "id": "c98262fe",
   "metadata": {},
   "outputs": [],
   "source": [
    "def gen_data(batch_size, length=5):\n",
    "    x = np.random.randint(1, 100, (batch_size, length))\n",
    "    y = np.max(x, axis=1)\n",
    "    x, y = np.expand_dims(x, axis=2), np.expand_dims(y, axis=1)\n",
    "    return x, y # (batch_size, length, 1) (each number is a 1-element set)"
   ]
  },
  {
   "cell_type": "code",
   "execution_count": 8,
   "id": "84927dc3",
   "metadata": {},
   "outputs": [],
   "source": [
    "x, y = gen_data(3, 5)"
   ]
  },
  {
   "cell_type": "code",
   "execution_count": 9,
   "id": "adecc021",
   "metadata": {},
   "outputs": [
    {
     "data": {
      "text/plain": [
       "(3, 5, 1)"
      ]
     },
     "execution_count": 9,
     "metadata": {},
     "output_type": "execute_result"
    }
   ],
   "source": [
    "x.shape"
   ]
  },
  {
   "cell_type": "code",
   "execution_count": 10,
   "id": "9493cdee",
   "metadata": {},
   "outputs": [
    {
     "data": {
      "text/plain": [
       "array([[[84],\n",
       "        [ 4],\n",
       "        [14],\n",
       "        [81],\n",
       "        [35]],\n",
       "\n",
       "       [[44],\n",
       "        [ 5],\n",
       "        [69],\n",
       "        [19],\n",
       "        [28]]])"
      ]
     },
     "execution_count": 10,
     "metadata": {},
     "output_type": "execute_result"
    }
   ],
   "source": [
    "x[:2]"
   ]
  },
  {
   "cell_type": "code",
   "execution_count": 11,
   "id": "d89665e8",
   "metadata": {},
   "outputs": [
    {
     "data": {
      "text/plain": [
       "(3, 1)"
      ]
     },
     "execution_count": 11,
     "metadata": {},
     "output_type": "execute_result"
    }
   ],
   "source": [
    "y.shape"
   ]
  },
  {
   "cell_type": "code",
   "execution_count": 12,
   "id": "53e6fd7f",
   "metadata": {},
   "outputs": [
    {
     "data": {
      "text/plain": [
       "array([[84],\n",
       "       [69]])"
      ]
     },
     "execution_count": 12,
     "metadata": {},
     "output_type": "execute_result"
    }
   ],
   "source": [
    "y[:2]"
   ]
  },
  {
   "cell_type": "markdown",
   "id": "c54c7052",
   "metadata": {},
   "source": [
    "---\n",
    "## Training"
   ]
  },
  {
   "cell_type": "code",
   "execution_count": 13,
   "id": "40812f96",
   "metadata": {},
   "outputs": [
    {
     "name": "stderr",
     "output_type": "stream",
     "text": [
      "2022-04-23 01:59:59.722173: I tensorflow/stream_executor/cuda/cuda_gpu_executor.cc:937] successful NUMA node read from SysFS had negative value (-1), but there must be at least one NUMA node, so returning NUMA node zero\n",
      "2022-04-23 01:59:59.722992: I tensorflow/stream_executor/cuda/cuda_gpu_executor.cc:937] successful NUMA node read from SysFS had negative value (-1), but there must be at least one NUMA node, so returning NUMA node zero\n",
      "2022-04-23 01:59:59.728111: I tensorflow/stream_executor/cuda/cuda_gpu_executor.cc:937] successful NUMA node read from SysFS had negative value (-1), but there must be at least one NUMA node, so returning NUMA node zero\n",
      "2022-04-23 01:59:59.729482: I tensorflow/stream_executor/cuda/cuda_gpu_executor.cc:937] successful NUMA node read from SysFS had negative value (-1), but there must be at least one NUMA node, so returning NUMA node zero\n",
      "2022-04-23 01:59:59.730900: I tensorflow/stream_executor/cuda/cuda_gpu_executor.cc:937] successful NUMA node read from SysFS had negative value (-1), but there must be at least one NUMA node, so returning NUMA node zero\n",
      "2022-04-23 01:59:59.732275: I tensorflow/stream_executor/cuda/cuda_gpu_executor.cc:937] successful NUMA node read from SysFS had negative value (-1), but there must be at least one NUMA node, so returning NUMA node zero\n",
      "2022-04-23 01:59:59.734329: I tensorflow/core/platform/cpu_feature_guard.cc:142] This TensorFlow binary is optimized with oneAPI Deep Neural Network Library (oneDNN) to use the following CPU instructions in performance-critical operations:  SSE4.1 SSE4.2 AVX AVX2 FMA\n",
      "To enable them in other operations, rebuild TensorFlow with the appropriate compiler flags.\n",
      "2022-04-23 01:59:59.899915: I tensorflow/stream_executor/cuda/cuda_gpu_executor.cc:937] successful NUMA node read from SysFS had negative value (-1), but there must be at least one NUMA node, so returning NUMA node zero\n",
      "2022-04-23 01:59:59.900673: I tensorflow/stream_executor/cuda/cuda_gpu_executor.cc:937] successful NUMA node read from SysFS had negative value (-1), but there must be at least one NUMA node, so returning NUMA node zero\n",
      "2022-04-23 01:59:59.901389: I tensorflow/stream_executor/cuda/cuda_gpu_executor.cc:937] successful NUMA node read from SysFS had negative value (-1), but there must be at least one NUMA node, so returning NUMA node zero\n",
      "2022-04-23 01:59:59.902099: I tensorflow/stream_executor/cuda/cuda_gpu_executor.cc:937] successful NUMA node read from SysFS had negative value (-1), but there must be at least one NUMA node, so returning NUMA node zero\n",
      "2022-04-23 01:59:59.902819: I tensorflow/stream_executor/cuda/cuda_gpu_executor.cc:937] successful NUMA node read from SysFS had negative value (-1), but there must be at least one NUMA node, so returning NUMA node zero\n",
      "2022-04-23 01:59:59.903528: I tensorflow/stream_executor/cuda/cuda_gpu_executor.cc:937] successful NUMA node read from SysFS had negative value (-1), but there must be at least one NUMA node, so returning NUMA node zero\n",
      "2022-04-23 02:00:00.515979: I tensorflow/stream_executor/cuda/cuda_gpu_executor.cc:937] successful NUMA node read from SysFS had negative value (-1), but there must be at least one NUMA node, so returning NUMA node zero\n",
      "2022-04-23 02:00:00.516771: I tensorflow/stream_executor/cuda/cuda_gpu_executor.cc:937] successful NUMA node read from SysFS had negative value (-1), but there must be at least one NUMA node, so returning NUMA node zero\n",
      "2022-04-23 02:00:00.517500: I tensorflow/stream_executor/cuda/cuda_gpu_executor.cc:937] successful NUMA node read from SysFS had negative value (-1), but there must be at least one NUMA node, so returning NUMA node zero\n",
      "2022-04-23 02:00:00.518223: I tensorflow/stream_executor/cuda/cuda_gpu_executor.cc:937] successful NUMA node read from SysFS had negative value (-1), but there must be at least one NUMA node, so returning NUMA node zero\n",
      "2022-04-23 02:00:00.518952: I tensorflow/stream_executor/cuda/cuda_gpu_executor.cc:937] successful NUMA node read from SysFS had negative value (-1), but there must be at least one NUMA node, so returning NUMA node zero\n",
      "2022-04-23 02:00:00.519661: I tensorflow/core/common_runtime/gpu/gpu_device.cc:1510] Created device /job:localhost/replica:0/task:0/device:GPU:0 with 22300 MB memory:  -> device: 0, name: NVIDIA GeForce RTX 3090, pci bus id: 0000:01:00.0, compute capability: 8.6\n",
      "2022-04-23 02:00:00.519993: I tensorflow/stream_executor/cuda/cuda_gpu_executor.cc:937] successful NUMA node read from SysFS had negative value (-1), but there must be at least one NUMA node, so returning NUMA node zero\n",
      "2022-04-23 02:00:00.520689: I tensorflow/core/common_runtime/gpu/gpu_device.cc:1510] Created device /job:localhost/replica:0/task:0/device:GPU:1 with 22302 MB memory:  -> device: 1, name: NVIDIA GeForce RTX 3090, pci bus id: 0000:21:00.0, compute capability: 8.6\n"
     ]
    }
   ],
   "source": [
    "model = MaxRegressionSetTransformer()\n",
    "model.compile(\n",
    "    optimizer=keras.optimizers.Adam(1e-4),\n",
    "    loss=keras.losses.MeanAbsoluteError())"
   ]
  },
  {
   "cell_type": "code",
   "execution_count": 14,
   "id": "62b58f89",
   "metadata": {},
   "outputs": [
    {
     "name": "stderr",
     "output_type": "stream",
     "text": [
      "2022-04-23 02:00:01.385693: I tensorflow/stream_executor/cuda/cuda_blas.cc:1760] TensorFloat-32 will be used for the matrix multiplication. This will only be logged once.\n"
     ]
    },
    {
     "data": {
      "text/plain": [
       "(<tf.Tensor: shape=(2,), dtype=float32, numpy=array([49.1132  , 36.465218], dtype=float32)>,\n",
       " array([[[84],\n",
       "         [ 4],\n",
       "         [14],\n",
       "         [81],\n",
       "         [35]],\n",
       " \n",
       "        [[44],\n",
       "         [ 5],\n",
       "         [69],\n",
       "         [19],\n",
       "         [28]]]))"
      ]
     },
     "execution_count": 14,
     "metadata": {},
     "output_type": "execute_result"
    }
   ],
   "source": [
    "model(x[:2]), x[:2]"
   ]
  },
  {
   "cell_type": "code",
   "execution_count": 15,
   "id": "26b17ca6",
   "metadata": {},
   "outputs": [],
   "source": [
    "x, y = gen_data(batch_size=2 ** 10, length=5)"
   ]
  },
  {
   "cell_type": "code",
   "execution_count": 16,
   "id": "c7dbf382",
   "metadata": {
    "tags": []
   },
   "outputs": [
    {
     "name": "stderr",
     "output_type": "stream",
     "text": [
      "2022-04-23 02:00:08.717365: I tensorflow/compiler/mlir/mlir_graph_optimization_pass.cc:185] None of the MLIR Optimization Passes are enabled (registered 2)\n"
     ]
    }
   ],
   "source": [
    "history = model.fit(x, y, epochs=500, verbose=0)"
   ]
  },
  {
   "cell_type": "code",
   "execution_count": 17,
   "id": "e24ec60e",
   "metadata": {},
   "outputs": [
    {
     "data": {
      "image/png": "[encoded data removed]",
      "text/plain": [
       "<Figure size 432x288 with 1 Axes>"
      ]
     },
     "metadata": {
      "needs_background": "light"
     },
     "output_type": "display_data"
    }
   ],
   "source": [
    "plt.plot(history.history[\"loss\"][::10])\n",
    "plt.title(\"Loss Over Time\")\n",
    "plt.show()"
   ]
  },
  {
   "cell_type": "code",
   "execution_count": null,
   "id": "a8503add",
   "metadata": {},
   "outputs": [],
   "source": []
  }
 ],
 "metadata": {
  "kernelspec": {
   "display_name": "Python 3 (ipykernel)",
   "language": "python",
   "name": "python3"
  },
  "language_info": {
   "codemirror_mode": {
    "name": "ipython",
    "version": 3
   },
   "file_extension": ".py",
   "mimetype": "text/x-python",
   "name": "python",
   "nbconvert_exporter": "python",
   "pygments_lexer": "ipython3",
   "version": "3.9.7"
  }
 },
 "nbformat": 4,
 "nbformat_minor": 5
}
