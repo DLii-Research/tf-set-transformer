{
 "cells": [
  {
   "cell_type": "markdown",
   "id": "db4a328c",
   "metadata": {
    "tags": []
   },
   "source": [
    "# Max Regression\n",
    "\n",
    "A demo of the toy max-regression problem from the paper."
   ]
  },
  {
   "cell_type": "code",
   "execution_count": 18,
   "id": "4198c41f",
   "metadata": {},
   "outputs": [],
   "source": [
    "import matplotlib.pyplot as plt\n",
    "import numpy as np\n",
    "import tensorflow as tf\n",
    "import tensorflow.keras as keras\n",
    "\n",
    "import settransformer"
   ]
  },
  {
   "cell_type": "markdown",
   "id": "fb645b7b",
   "metadata": {
    "tags": []
   },
   "source": [
    "## Model\n",
    "\n",
    "This model learns to approximate the largest number in the given set of numbers, regardless of the order presented."
   ]
  },
  {
   "cell_type": "code",
   "execution_count": 4,
   "id": "1ec3c8ae",
   "metadata": {
    "tags": []
   },
   "outputs": [],
   "source": [
    "class MaxRegressionSetTransformer(keras.models.Model):\n",
    "    def __init__(self):\n",
    "        super(MaxRegressionSetTransformer, self).__init__()\n",
    "        \n",
    "        # Encoder\n",
    "        inp = keras.layers.Input((None, 1))\n",
    "        out = keras.layers.Dense(64)(inp)\n",
    "        out = settransformer.SetAttentionBlock(64, 4)(out)\n",
    "        out = settransformer.SetAttentionBlock(64, 4)(out)\n",
    "        self.encoder = keras.models.Model(inp, out)\n",
    "        \n",
    "        # Decoder\n",
    "        inp = keras.layers.Input((None, 64))\n",
    "        out = settransformer.PoolingByMultiHeadAttention(1, 64, 1)(inp)\n",
    "        out = keras.layers.Dense(1)(out)\n",
    "        self.decoder = keras.models.Model(inp, out)\n",
    "        \n",
    "    def call(self, x):\n",
    "        return tf.squeeze(self.decoder(self.encoder(x)))"
   ]
  },
  {
   "cell_type": "markdown",
   "id": "d7de36a5",
   "metadata": {},
   "source": [
    "---\n",
    "## Data Generation\n",
    "\n",
    "The following function generates a batch sets, each consisting of *length* numbers."
   ]
  },
  {
   "cell_type": "code",
   "execution_count": 5,
   "id": "c98262fe",
   "metadata": {},
   "outputs": [],
   "source": [
    "def gen_data(batch_size, length=5):\n",
    "    x = np.random.randint(1, 100, (batch_size, length))\n",
    "    y = np.max(x, axis=1)\n",
    "    x, y = np.expand_dims(x, axis=2), np.expand_dims(y, axis=1)\n",
    "    return x, y # (batch_size, length, 1) (each number is a 1-element set)"
   ]
  },
  {
   "cell_type": "code",
   "execution_count": 6,
   "id": "84927dc3",
   "metadata": {},
   "outputs": [],
   "source": [
    "x, y = gen_data(3, 5)"
   ]
  },
  {
   "cell_type": "code",
   "execution_count": 7,
   "id": "adecc021",
   "metadata": {},
   "outputs": [
    {
     "data": {
      "text/plain": [
       "(3, 5, 1)"
      ]
     },
     "execution_count": 7,
     "metadata": {},
     "output_type": "execute_result"
    }
   ],
   "source": [
    "x.shape"
   ]
  },
  {
   "cell_type": "code",
   "execution_count": 8,
   "id": "9493cdee",
   "metadata": {},
   "outputs": [
    {
     "data": {
      "text/plain": [
       "array([[[80],\n",
       "        [ 3],\n",
       "        [71],\n",
       "        [36],\n",
       "        [46]],\n",
       "\n",
       "       [[56],\n",
       "        [66],\n",
       "        [64],\n",
       "        [33],\n",
       "        [54]]])"
      ]
     },
     "execution_count": 8,
     "metadata": {},
     "output_type": "execute_result"
    }
   ],
   "source": [
    "x[:2]"
   ]
  },
  {
   "cell_type": "code",
   "execution_count": 9,
   "id": "d89665e8",
   "metadata": {},
   "outputs": [
    {
     "data": {
      "text/plain": [
       "(3, 1)"
      ]
     },
     "execution_count": 9,
     "metadata": {},
     "output_type": "execute_result"
    }
   ],
   "source": [
    "y.shape"
   ]
  },
  {
   "cell_type": "code",
   "execution_count": 10,
   "id": "53e6fd7f",
   "metadata": {},
   "outputs": [
    {
     "data": {
      "text/plain": [
       "array([[80],\n",
       "       [66]])"
      ]
     },
     "execution_count": 10,
     "metadata": {},
     "output_type": "execute_result"
    }
   ],
   "source": [
    "y[:2]"
   ]
  },
  {
   "cell_type": "markdown",
   "id": "c54c7052",
   "metadata": {},
   "source": [
    "---\n",
    "## Training"
   ]
  },
  {
   "cell_type": "code",
   "execution_count": 16,
   "id": "40812f96",
   "metadata": {},
   "outputs": [],
   "source": [
    "model = MaxRegressionSetTransformer()\n",
    "model.compile(\n",
    "    optimizer=keras.optimizers.Adam(1e-4),\n",
    "    loss=keras.losses.MeanAbsoluteError())"
   ]
  },
  {
   "cell_type": "code",
   "execution_count": 17,
   "id": "62b58f89",
   "metadata": {},
   "outputs": [
    {
     "data": {
      "text/plain": [
       "(<tf.Tensor: shape=(2,), dtype=float32, numpy=array([53.255627, 53.139996], dtype=float32)>,\n",
       " array([[[62],\n",
       "         [96],\n",
       "         [73],\n",
       "         [14],\n",
       "         [80]],\n",
       " \n",
       "        [[26],\n",
       "         [48],\n",
       "         [91],\n",
       "         [14],\n",
       "         [55]]]))"
      ]
     },
     "execution_count": 17,
     "metadata": {},
     "output_type": "execute_result"
    }
   ],
   "source": [
    "model(x[:2]), x[:2]"
   ]
  },
  {
   "cell_type": "code",
   "execution_count": 13,
   "id": "26b17ca6",
   "metadata": {},
   "outputs": [],
   "source": [
    "x, y = gen_data(batch_size=2 ** 10, length=5)"
   ]
  },
  {
   "cell_type": "code",
   "execution_count": 14,
   "id": "c7dbf382",
   "metadata": {
    "tags": []
   },
   "outputs": [
    {
     "name": "stderr",
     "output_type": "stream",
     "text": [
      "2021-10-15 01:26:00.337769: I tensorflow/compiler/mlir/mlir_graph_optimization_pass.cc:176] None of the MLIR Optimization Passes are enabled (registered 2)\n",
      "2021-10-15 01:26:00.355308: I tensorflow/core/platform/profile_utils/cpu_utils.cc:114] CPU Frequency: 3393110000 Hz\n"
     ]
    }
   ],
   "source": [
    "history = model.fit(x, y, epochs=500, verbose=0)"
   ]
  },
  {
   "cell_type": "code",
   "execution_count": 15,
   "id": "e24ec60e",
   "metadata": {},
   "outputs": [
    {
     "data": {
      "image/png": "[encoded data removed]",
      "text/plain": [
       "<Figure size 432x288 with 1 Axes>"
      ]
     },
     "metadata": {
      "needs_background": "light"
     },
     "output_type": "display_data"
    }
   ],
   "source": [
    "plt.plot(history.history[\"loss\"][::10])\n",
    "plt.title(\"Loss Over Time\")\n",
    "plt.show()"
   ]
  },
  {
   "cell_type": "code",
   "execution_count": null,
   "id": "a8503add",
   "metadata": {},
   "outputs": [],
   "source": []
  }
 ],
 "metadata": {
  "kernelspec": {
   "display_name": "Python 3.9 (Tensorflow 2.5)",
   "language": "python",
   "name": "tf2.5"
  },
  "language_info": {
   "codemirror_mode": {
    "name": "ipython",
    "version": 3
   },
   "file_extension": ".py",
   "mimetype": "text/x-python",
   "name": "python",
   "nbconvert_exporter": "python",
   "pygments_lexer": "ipython3",
   "version": "3.9.6"
  }
 },
 "nbformat": 4,
 "nbformat_minor": 5
}
