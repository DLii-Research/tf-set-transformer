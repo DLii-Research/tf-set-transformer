{
 "cells": [
  {
   "cell_type": "markdown",
   "id": "2073eb07-b5af-4bce-b201-b251cf1bb027",
   "metadata": {
    "tags": []
   },
   "source": [
    "# Max Regression\n",
    "\n",
    "A demo of the toy max-regression problem from the paper."
   ]
  },
  {
   "cell_type": "code",
   "execution_count": 1,
   "id": "adf1fc01-2b3e-4e3c-a0f3-5d29a52c1eeb",
   "metadata": {},
   "outputs": [],
   "source": [
    "import matplotlib.pyplot as plt\n",
    "import numpy as np\n",
    "import tensorflow as tf\n",
    "import tensorflow.keras as keras\n",
    "\n",
    "import settransformer"
   ]
  },
  {
   "cell_type": "markdown",
   "id": "d5d21a22-8044-459d-83b3-eb8ee1243f66",
   "metadata": {},
   "source": [
    "## Strategy\n",
    "\n",
    "Grab the appropriate compute device(s)."
   ]
  },
  {
   "cell_type": "code",
   "execution_count": 9,
   "id": "e88eef78-bb58-4a6e-8ffe-d7eced4a3521",
   "metadata": {},
   "outputs": [],
   "source": [
    "DEVICE = \"gpu:0\"\n",
    "MULTI_GPU = False"
   ]
  },
  {
   "cell_type": "code",
   "execution_count": 2,
   "id": "fc3ae4f8-2d2f-42a9-bf7c-6fc68bb04153",
   "metadata": {},
   "outputs": [],
   "source": [
    "if MULTI_GPU:\n",
    "    strategy = tf.distribute.MirroredStrategy()\n",
    "else:\n",
    "    strategy = tf.distribute.OneDeviceStrategy(DEVICE)"
   ]
  },
  {
   "cell_type": "markdown",
   "id": "50094657-817d-4a08-8d89-be072f31731d",
   "metadata": {
    "tags": []
   },
   "source": [
    "---\n",
    "## Max Regression Model\n",
    "\n",
    "This model learns to approximate the largest number in the given set of numbers, regardless of the order presented."
   ]
  },
  {
   "cell_type": "code",
   "execution_count": 10,
   "id": "c0922c7f-8d58-46bd-9025-2fa7a0b09c9e",
   "metadata": {
    "tags": []
   },
   "outputs": [],
   "source": [
    "class MaxRegressionSetTransformer(keras.models.Model):\n",
    "    def __init__(self):\n",
    "        super(MaxRegressionSetTransformer, self).__init__()\n",
    "        \n",
    "        # Encoder\n",
    "        inp = keras.layers.Input((None, 1))\n",
    "        out = keras.layers.Dense(64)(inp)\n",
    "        out = settransformer.SetAttentionBlock(64, 4)(out)\n",
    "        out = settransformer.SetAttentionBlock(64, 4)(out)\n",
    "        self.encoder = keras.models.Model(inp, out)\n",
    "        \n",
    "        # Decoder\n",
    "        inp = keras.layers.Input((None, 64))\n",
    "        out = settransformer.PoolingByMultiHeadAttention(1, 64, 1)(inp)\n",
    "        out = keras.layers.Dense(1)(out)\n",
    "        self.decoder = keras.models.Model(inp, out)\n",
    "        \n",
    "    def call(self, x):\n",
    "        return tf.squeeze(self.decoder(self.encoder(x)))"
   ]
  },
  {
   "cell_type": "markdown",
   "id": "7c4534c3-1895-42f0-b594-7ba403df6310",
   "metadata": {},
   "source": [
    "---\n",
    "## Data Generation\n",
    "\n",
    "The following function generates a batch sets, each consisting of *length* numbers."
   ]
  },
  {
   "cell_type": "code",
   "execution_count": 15,
   "id": "2053408c-449c-48a8-8aa4-5a3c919014bb",
   "metadata": {},
   "outputs": [],
   "source": [
    "def gen_data(batch_size, length=5):\n",
    "    x = np.random.randint(1, 100, (batch_size, length))\n",
    "    y = np.max(x, axis=1)\n",
    "    x, y = np.expand_dims(x, axis=2), np.expand_dims(y, axis=1)\n",
    "    return x, y # (batch_size, length, 1) (each number is a 1-element set)"
   ]
  },
  {
   "cell_type": "code",
   "execution_count": 22,
   "id": "7d3f38a0-61e5-45f0-a0c9-ea6deeb51292",
   "metadata": {},
   "outputs": [],
   "source": [
    "x, y = gen_data(3, 5)"
   ]
  },
  {
   "cell_type": "code",
   "execution_count": 23,
   "id": "6cb0ee38-10ed-401f-9003-7d00eee89339",
   "metadata": {},
   "outputs": [
    {
     "data": {
      "text/plain": [
       "(3, 5, 1)"
      ]
     },
     "execution_count": 23,
     "metadata": {},
     "output_type": "execute_result"
    }
   ],
   "source": [
    "x.shape"
   ]
  },
  {
   "cell_type": "code",
   "execution_count": 26,
   "id": "e90f7c9e-5baa-4cee-a7c6-9470cb1f92e9",
   "metadata": {},
   "outputs": [
    {
     "data": {
      "text/plain": [
       "array([[[55],\n",
       "        [97],\n",
       "        [45],\n",
       "        [94],\n",
       "        [18]],\n",
       "\n",
       "       [[ 6],\n",
       "        [22],\n",
       "        [51],\n",
       "        [53],\n",
       "        [22]]])"
      ]
     },
     "execution_count": 26,
     "metadata": {},
     "output_type": "execute_result"
    }
   ],
   "source": [
    "x[:2]"
   ]
  },
  {
   "cell_type": "code",
   "execution_count": 24,
   "id": "db108f76-229d-4a0f-8f6f-b9e1067eeda8",
   "metadata": {},
   "outputs": [
    {
     "data": {
      "text/plain": [
       "(3, 1)"
      ]
     },
     "execution_count": 24,
     "metadata": {},
     "output_type": "execute_result"
    }
   ],
   "source": [
    "y.shape"
   ]
  },
  {
   "cell_type": "code",
   "execution_count": 27,
   "id": "bd493d4d-fad1-44ce-b6b1-0dcab84ab302",
   "metadata": {},
   "outputs": [
    {
     "data": {
      "text/plain": [
       "array([[97],\n",
       "       [53]])"
      ]
     },
     "execution_count": 27,
     "metadata": {},
     "output_type": "execute_result"
    }
   ],
   "source": [
    "y[:2]"
   ]
  },
  {
   "cell_type": "markdown",
   "id": "2b158954-31fd-44e5-a057-4d898de533a5",
   "metadata": {},
   "source": [
    "---\n",
    "## Training"
   ]
  },
  {
   "cell_type": "code",
   "execution_count": 28,
   "id": "3bf8a182-fcd0-4de4-aac4-a066d6715839",
   "metadata": {},
   "outputs": [],
   "source": [
    "with strategy.scope():\n",
    "    model = MaxRegressionSetTransformer()\n",
    "    model.compile(loss=keras.losses.MeanAbsoluteError())"
   ]
  },
  {
   "cell_type": "code",
   "execution_count": 29,
   "id": "112c1463-aa8c-4eac-9470-426652eefec2",
   "metadata": {},
   "outputs": [],
   "source": [
    "x, y = gen_data(batch_size=2 ** 10, length=5)"
   ]
  },
  {
   "cell_type": "code",
   "execution_count": 30,
   "id": "0bd66895-1008-410d-a48c-e9b2cf670c77",
   "metadata": {
    "tags": []
   },
   "outputs": [],
   "source": [
    "with strategy.scope():\n",
    "    history = model.fit(x, y, epochs=500, verbose=0)"
   ]
  },
  {
   "cell_type": "code",
   "execution_count": 34,
   "id": "00b9290f-63e1-4875-9115-9dcf19fff80e",
   "metadata": {},
   "outputs": [
    {
     "data": {
      "image/png": "[encoded data removed]",
      "text/plain": [
       "<Figure size 432x288 with 1 Axes>"
      ]
     },
     "metadata": {
      "needs_background": "light"
     },
     "output_type": "display_data"
    }
   ],
   "source": [
    "plt.plot(history.history[\"loss\"][::10])\n",
    "plt.title(\"Loss Over Time\")\n",
    "plt.show()"
   ]
  },
  {
   "cell_type": "code",
   "execution_count": null,
   "id": "7d28315c-61e3-4f82-9dba-6bab316c463a",
   "metadata": {},
   "outputs": [],
   "source": []
  }
 ],
 "metadata": {
  "kernelspec": {
   "display_name": "Python 3 (λ)",
   "language": "python",
   "name": "lambda-stack"
  },
  "language_info": {
   "codemirror_mode": {
    "name": "ipython",
    "version": 3
   },
   "file_extension": ".py",
   "mimetype": "text/x-python",
   "name": "python",
   "nbconvert_exporter": "python",
   "pygments_lexer": "ipython3",
   "version": "3.8.10"
  }
 },
 "nbformat": 4,
 "nbformat_minor": 5
}
