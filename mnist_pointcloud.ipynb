{
 "cells": [
  {
   "cell_type": "markdown",
   "id": "fbec5590",
   "metadata": {
    "tags": []
   },
   "source": [
    "# MNIST Point Cloud Classification\n",
    "\n",
    "This task attempts to classify a set of 2D-points in the shape of a number. Using the MNIST dataset, point clouds are generated with a random number of points.\n",
    "\n",
    "**Note:** the datasets are not included in this repository. Instead, they need to be generated using the [MNIST Point Cloud](https://github.com/DLii-Research/mnist-pointcloud) library."
   ]
  },
  {
   "cell_type": "code",
   "execution_count": 4,
   "id": "f1af3a40",
   "metadata": {},
   "outputs": [],
   "source": [
    "import matplotlib.pyplot as plt\n",
    "import numpy as np\n",
    "import tensorflow as tf\n",
    "import tensorflow.keras as keras\n",
    "\n",
    "import settransformer as stf"
   ]
  },
  {
   "cell_type": "markdown",
   "id": "98192acd",
   "metadata": {},
   "source": [
    "## Strategy\n",
    "\n",
    "Grab the appropriate compute device(s)."
   ]
  },
  {
   "cell_type": "code",
   "execution_count": 5,
   "id": "5f566b62",
   "metadata": {},
   "outputs": [],
   "source": [
    "DEVICE = \"gpu:0\"\n",
    "MULTI_GPU = False"
   ]
  },
  {
   "cell_type": "code",
   "execution_count": 6,
   "id": "bc1770bb",
   "metadata": {},
   "outputs": [],
   "source": [
    "if MULTI_GPU:\n",
    "    strategy = tf.distribute.MirroredStrategy()\n",
    "else:\n",
    "    strategy = tf.distribute.OneDeviceStrategy(DEVICE)"
   ]
  },
  {
   "cell_type": "markdown",
   "id": "4a40de3c",
   "metadata": {},
   "source": [
    "## MNIST dataset"
   ]
  },
  {
   "cell_type": "code",
   "execution_count": 7,
   "id": "0761351f",
   "metadata": {},
   "outputs": [],
   "source": [
    "(x_train, y_train), (x_test, y_test) = keras.datasets.mnist.load_data()"
   ]
  },
  {
   "cell_type": "code",
   "execution_count": 8,
   "id": "2c2f95fa",
   "metadata": {},
   "outputs": [
    {
     "name": "stdout",
     "output_type": "stream",
     "text": [
      "(60000, 28, 28) (60000,)\n"
     ]
    }
   ],
   "source": [
    "print(x_train.shape, y_train.shape)"
   ]
  },
  {
   "cell_type": "code",
   "execution_count": 9,
   "id": "d3a5e9aa",
   "metadata": {},
   "outputs": [
    {
     "name": "stdout",
     "output_type": "stream",
     "text": [
      "(10000, 28, 28) (10000,)\n"
     ]
    }
   ],
   "source": [
    "print(x_test.shape, y_test.shape)"
   ]
  },
  {
   "cell_type": "code",
   "execution_count": 10,
   "id": "5b039b36",
   "metadata": {},
   "outputs": [
    {
     "data": {
      "text/plain": [
       "<matplotlib.image.AxesImage at 0x7f07c07f7370>"
      ]
     },
     "execution_count": 10,
     "metadata": {},
     "output_type": "execute_result"
    },
    {
     "data": {
      "image/png": "[encoded data removed]",
      "text/plain": [
       "<Figure size 432x288 with 1 Axes>"
      ]
     },
     "metadata": {
      "needs_background": "light"
     },
     "output_type": "display_data"
    }
   ],
   "source": [
    "plt.imshow(x_train[0])"
   ]
  },
  {
   "cell_type": "markdown",
   "id": "aad0e64b",
   "metadata": {},
   "source": [
    "## MNIST Point Cloud Generation"
   ]
  },
  {
   "cell_type": "code",
   "execution_count": 11,
   "id": "64acb8b5",
   "metadata": {},
   "outputs": [],
   "source": [
    "class MnistPointCloudGenerator(keras.utils.Sequence):\n",
    "\n",
    "\tdef __init__(self, x, y=None, num_points=1000, batch_size=32, threshold=70, shuffle=True, rng=None):\n",
    "\t\tself.x = x\n",
    "\t\tself.y = y.astype(np.int32) if y is not None else None\n",
    "\t\tself.num_points = num_points\n",
    "\t\tself.batch_size = batch_size if batch_size is not None else len(x)\n",
    "\t\tself.threshold = threshold\n",
    "\t\tself.should_shuffle = shuffle\n",
    "\t\tself.rng = rng if rng is not None else np.random.default_rng()\n",
    "\n",
    "\t\tself.num_batches = len(self.x) // self.batch_size\n",
    "\n",
    "\t\tself.init()\n",
    "\t\tself.shuffle()\n",
    "\n",
    "\tdef init(self):\n",
    "\t\timg_ids, y_pixels, x_pixels = np.nonzero(self.x > self.threshold)\n",
    "\t\tself.pixels = (np.column_stack((x_pixels, 28 - y_pixels)) - 13.5) / 13.5\n",
    "\t\t_, self.pixel_counts = np.unique(img_ids, return_counts=True)\n",
    "\t\tself.pixel_offsets = np.concatenate(([0], np.cumsum(self.pixel_counts)))\n",
    "\n",
    "\tdef shuffle(self):\n",
    "\t\t# Randomize the order of the images\n",
    "\t\tnum_elems = self.num_batches*self.batch_size\n",
    "\t\tif self.shuffle:\n",
    "\t\t\tself.indices = np.reshape(self.rng.permutation(len(self.x))[:num_elems], (-1, self.batch_size))\n",
    "\t\telse:\n",
    "\t\t\tself.indices = np.reshape(np.arange(num_elems), (-1, self.batch_size))\n",
    "\n",
    "\t\t# Select random pixel indices\n",
    "\t\tnoise = self.rng.uniform(size=(len(self.x), self.num_points))\n",
    "\t\tself.pixel_indices = (noise * np.reshape(self.pixel_counts, (-1, 1))).astype(np.int64) \\\n",
    "\t\t                   + np.reshape(self.pixel_offsets[:-1], (-1, 1))\n",
    "\n",
    "\t\t# Generate noise for the pixels\n",
    "\t\tself.pixel_noise = self.rng.normal(size=(len(self.x), self.num_points, 2), scale=1/13.5/2)\n",
    "\n",
    "\tdef __len__(self):\n",
    "\t\treturn self.num_batches\n",
    "\n",
    "\tdef __getitem__(self, batch_index):\n",
    "\t\tindices = self.indices[batch_index]\n",
    "\t\tbatch_x = self.pixels[self.pixel_indices[indices]] + self.pixel_noise[indices]\n",
    "\t\tif self.y is not None:\n",
    "\t\t\treturn batch_x, self.y[indices]\n",
    "\t\treturn batch_x\n",
    "\n",
    "\tdef on_epoch_end(self):\n",
    "\t\tself.shuffle()"
   ]
  },
  {
   "cell_type": "code",
   "execution_count": 12,
   "id": "236d778d",
   "metadata": {},
   "outputs": [],
   "source": [
    "dataset = MnistPointCloudGenerator(x_train, y_train)"
   ]
  },
  {
   "cell_type": "code",
   "execution_count": 13,
   "id": "75abc945",
   "metadata": {},
   "outputs": [
    {
     "name": "stdout",
     "output_type": "stream",
     "text": [
      "(32, 1000, 2) (32,)\n"
     ]
    }
   ],
   "source": [
    "point_clouds, labels = dataset[0] # fetch a batch\n",
    "print(point_clouds.shape, labels.shape)"
   ]
  },
  {
   "cell_type": "code",
   "execution_count": 14,
   "id": "c116afc8",
   "metadata": {},
   "outputs": [
    {
     "name": "stdout",
     "output_type": "stream",
     "text": [
      "The digit is a 1\n"
     ]
    },
    {
     "data": {
      "image/png": "[encoded data removed]",
      "text/plain": [
       "<Figure size 216x216 with 1 Axes>"
      ]
     },
     "metadata": {},
     "output_type": "display_data"
    }
   ],
   "source": [
    "index = 1 # the index of the batch to show\n",
    "\n",
    "print(\"The digit is a\", labels[index])\n",
    "\n",
    "plt.figure(figsize=(3, 3))\n",
    "plt.scatter(*point_clouds[index].T, s=1.7)\n",
    "plt.xlim((-1, 1))\n",
    "plt.ylim((-1, 1))\n",
    "plt.xticks([])\n",
    "plt.yticks([])\n",
    "plt.show()"
   ]
  },
  {
   "cell_type": "markdown",
   "id": "86c0f101",
   "metadata": {},
   "source": [
    "## Model Architecture"
   ]
  },
  {
   "cell_type": "code",
   "execution_count": 15,
   "id": "26e46300",
   "metadata": {},
   "outputs": [],
   "source": [
    "def create_model(\n",
    "\tembed_dim=64,\n",
    "\tnum_heads=4,\n",
    "\tnum_induce=32,\n",
    "\tstack=2,\n",
    "\tff_activation=\"gelu\",\n",
    "\tdropout=0.5,\n",
    "\tuse_layernorm=False,\n",
    "\tpre_layernorm=False,\n",
    "\tuse_keras_mha=False\n",
    "):\n",
    "\ty = x = keras.layers.Input((None, 2))\n",
    "\ty = keras.layers.Dense(embed_dim)(y)\n",
    "\tfor _ in range(stack):\n",
    "\t\ty = stf.InducedSetAttentionBlock(\n",
    "\t\t\tembed_dim=embed_dim,\n",
    "\t\t\tnum_heads=num_heads,\n",
    "\t\t\tnum_induce=num_induce,\n",
    "\t\t\tff_activation=ff_activation,\n",
    "\t\t\tuse_layernorm=use_layernorm,\n",
    "\t\t\tpre_layernorm=pre_layernorm,\n",
    "\t\t\tuse_keras_mha=use_keras_mha)(y)\n",
    "\t\n",
    "\ty = keras.layers.Dropout(dropout)(y)\n",
    "\ty = stf.PoolingByMultiHeadAttention(\n",
    "\t\tnum_seeds=1,\n",
    "\t\tembed_dim=embed_dim,\n",
    "\t\tnum_heads=1,\n",
    "\t\tff_activation=ff_activation,\n",
    "\t\tuse_layernorm=use_layernorm,\n",
    "\t\tpre_layernorm=pre_layernorm,\n",
    "\t\tuse_keras_mha=use_keras_mha,\n",
    "\t\tis_final_block=True)(y)\n",
    "\ty = keras.layers.Dropout(dropout)(y)\n",
    "\ty = keras.layers.Dense(10)(y)\n",
    "\n",
    "\treturn keras.Model(x, y)"
   ]
  },
  {
   "cell_type": "markdown",
   "id": "08bdfd86",
   "metadata": {
    "tags": []
   },
   "source": [
    "---\n",
    "## 100-Element Point Clouds"
   ]
  },
  {
   "cell_type": "markdown",
   "id": "1275db57",
   "metadata": {},
   "source": [
    "### Dataset"
   ]
  },
  {
   "cell_type": "code",
   "execution_count": 16,
   "id": "cc3018c6",
   "metadata": {},
   "outputs": [],
   "source": [
    "split_index = int(0.2*len(x_train))\n",
    "\n",
    "train_dataset = MnistPointCloudGenerator(x_train[split_index:], y_train[split_index:], num_points=1000)\n",
    "val_dataset = MnistPointCloudGenerator(x_train[:split_index], y_train[:split_index], num_points=1000)\n",
    "test_dataset = MnistPointCloudGenerator(x_test, y_test, num_points=1000)\n"
   ]
  },
  {
   "cell_type": "markdown",
   "id": "a6fd3ec7",
   "metadata": {},
   "source": [
    "### Model"
   ]
  },
  {
   "cell_type": "code",
   "execution_count": 17,
   "id": "b40a6763",
   "metadata": {},
   "outputs": [
    {
     "name": "stdout",
     "output_type": "stream",
     "text": [
      "Model: \"model\"\n",
      "_________________________________________________________________\n",
      " Layer (type)                Output Shape              Param #   \n",
      "=================================================================\n",
      " input_1 (InputLayer)        [(None, None, 2)]         0         \n",
      "                                                                 \n",
      " dense (Dense)               (None, None, 64)          192       \n",
      "                                                                 \n",
      " induced_set_attention_block  (None, None, 64)         35328     \n",
      "  (InducedSetAttentionBlock)                                     \n",
      "                                                                 \n",
      " induced_set_attention_block  (None, None, 64)         35328     \n",
      " _1 (InducedSetAttentionBloc                                     \n",
      " k)                                                              \n",
      "                                                                 \n",
      " dropout (Dropout)           (None, None, 64)          0         \n",
      "                                                                 \n",
      " pooling_by_multi_head_atten  (None, 1, 64)            16704     \n",
      " tion (PoolingByMultiHeadAtt                                     \n",
      " ention)                                                         \n",
      "                                                                 \n",
      " dropout_1 (Dropout)         (None, 1, 64)             0         \n",
      "                                                                 \n",
      " dense_21 (Dense)            (None, 1, 10)             650       \n",
      "                                                                 \n",
      "=================================================================\n",
      "Total params: 88,202\n",
      "Trainable params: 88,202\n",
      "Non-trainable params: 0\n",
      "_________________________________________________________________\n"
     ]
    }
   ],
   "source": [
    "with strategy.scope():\n",
    "    model = create_model(use_keras_mha=False, dropout=0.0, stack=2, use_layernorm=True)\n",
    "    model.compile(\n",
    "        optimizer=keras.optimizers.Adam(1e-3),\n",
    "        loss=keras.losses.SparseCategoricalCrossentropy(from_logits=True),\n",
    "        metrics=keras.metrics.SparseCategoricalAccuracy()\n",
    "    )\n",
    "    model.summary()"
   ]
  },
  {
   "cell_type": "markdown",
   "id": "733319d3",
   "metadata": {},
   "source": [
    "### Training"
   ]
  },
  {
   "cell_type": "code",
   "execution_count": 18,
   "id": "048008bc",
   "metadata": {},
   "outputs": [
    {
     "name": "stderr",
     "output_type": "stream",
     "text": [
      "2022-06-09 03:57:15.570985: W tensorflow/core/grappler/optimizers/data/auto_shard.cc:766] AUTO sharding policy will apply DATA sharding policy as it failed to apply FILE sharding policy because of the following reason: Did not find a shardable source, walked to a node which is not a dataset: name: \"FlatMapDataset/_2\"\n",
      "op: \"FlatMapDataset\"\n",
      "input: \"TensorDataset/_1\"\n",
      "attr {\n",
      "  key: \"Targuments\"\n",
      "  value {\n",
      "    list {\n",
      "    }\n",
      "  }\n",
      "}\n",
      "attr {\n",
      "  key: \"_cardinality\"\n",
      "  value {\n",
      "    i: -2\n",
      "  }\n",
      "}\n",
      "attr {\n",
      "  key: \"f\"\n",
      "  value {\n",
      "    func {\n",
      "      name: \"__inference_Dataset_flat_map_flat_map_fn_1497\"\n",
      "    }\n",
      "  }\n",
      "}\n",
      "attr {\n",
      "  key: \"metadata\"\n",
      "  value {\n",
      "    s: \"\\n\\020FlatMapDataset:1\"\n",
      "  }\n",
      "}\n",
      "attr {\n",
      "  key: \"output_shapes\"\n",
      "  value {\n",
      "    list {\n",
      "      shape {\n",
      "        dim {\n",
      "          size: -1\n",
      "        }\n",
      "        dim {\n",
      "          size: -1\n",
      "        }\n",
      "        dim {\n",
      "          size: -1\n",
      "        }\n",
      "      }\n",
      "      shape {\n",
      "        dim {\n",
      "          size: -1\n",
      "        }\n",
      "      }\n",
      "    }\n",
      "  }\n",
      "}\n",
      "attr {\n",
      "  key: \"output_types\"\n",
      "  value {\n",
      "    list {\n",
      "      type: DT_FLOAT\n",
      "      type: DT_INT32\n",
      "    }\n",
      "  }\n",
      "}\n",
      ". Consider either turning off auto-sharding or switching the auto_shard_policy to DATA to shard this dataset. You can do this by creating a new `tf.data.Options()` object then setting `options.experimental_distribute.auto_shard_policy = AutoShardPolicy.DATA` before applying the options object to the dataset via `dataset.with_options(options)`.\n"
     ]
    },
    {
     "name": "stdout",
     "output_type": "stream",
     "text": [
      "Epoch 1/20\n",
      "  12/1500 [..............................] - ETA: 24s - loss: 2.5184 - sparse_categorical_accuracy: 0.1079"
     ]
    },
    {
     "name": "stderr",
     "output_type": "stream",
     "text": [
      "2022-06-09 03:57:18.517907: I tensorflow/stream_executor/cuda/cuda_blas.cc:1774] TensorFloat-32 will be used for the matrix multiplication. This will only be logged once.\n"
     ]
    },
    {
     "name": "stdout",
     "output_type": "stream",
     "text": [
      "1499/1500 [============================>.] - ETA: 0s - loss: 0.8011 - sparse_categorical_accuracy: 0.1192"
     ]
    },
    {
     "name": "stderr",
     "output_type": "stream",
     "text": [
      "2022-06-09 03:57:41.610721: W tensorflow/core/grappler/optimizers/data/auto_shard.cc:766] AUTO sharding policy will apply DATA sharding policy as it failed to apply FILE sharding policy because of the following reason: Did not find a shardable source, walked to a node which is not a dataset: name: \"FlatMapDataset/_2\"\n",
      "op: \"FlatMapDataset\"\n",
      "input: \"TensorDataset/_1\"\n",
      "attr {\n",
      "  key: \"Targuments\"\n",
      "  value {\n",
      "    list {\n",
      "    }\n",
      "  }\n",
      "}\n",
      "attr {\n",
      "  key: \"_cardinality\"\n",
      "  value {\n",
      "    i: -2\n",
      "  }\n",
      "}\n",
      "attr {\n",
      "  key: \"f\"\n",
      "  value {\n",
      "    func {\n",
      "      name: \"__inference_Dataset_flat_map_flat_map_fn_14447\"\n",
      "    }\n",
      "  }\n",
      "}\n",
      "attr {\n",
      "  key: \"metadata\"\n",
      "  value {\n",
      "    s: \"\\n\\021FlatMapDataset:15\"\n",
      "  }\n",
      "}\n",
      "attr {\n",
      "  key: \"output_shapes\"\n",
      "  value {\n",
      "    list {\n",
      "      shape {\n",
      "        dim {\n",
      "          size: -1\n",
      "        }\n",
      "        dim {\n",
      "          size: -1\n",
      "        }\n",
      "        dim {\n",
      "          size: -1\n",
      "        }\n",
      "      }\n",
      "      shape {\n",
      "        dim {\n",
      "          size: -1\n",
      "        }\n",
      "      }\n",
      "    }\n",
      "  }\n",
      "}\n",
      "attr {\n",
      "  key: \"output_types\"\n",
      "  value {\n",
      "    list {\n",
      "      type: DT_FLOAT\n",
      "      type: DT_INT32\n",
      "    }\n",
      "  }\n",
      "}\n",
      ". Consider either turning off auto-sharding or switching the auto_shard_policy to DATA to shard this dataset. You can do this by creating a new `tf.data.Options()` object then setting `options.experimental_distribute.auto_shard_policy = AutoShardPolicy.DATA` before applying the options object to the dataset via `dataset.with_options(options)`.\n"
     ]
    },
    {
     "name": "stdout",
     "output_type": "stream",
     "text": [
      "1500/1500 [==============================] - 30s 18ms/step - loss: 0.8009 - sparse_categorical_accuracy: 0.1192 - val_loss: 0.2443 - val_sparse_categorical_accuracy: 0.1259\n",
      "Epoch 2/20\n",
      " 581/1500 [==========>...................] - ETA: 14s - loss: 0.2485 - sparse_categorical_accuracy: 0.1261"
     ]
    },
    {
     "ename": "KeyboardInterrupt",
     "evalue": "",
     "output_type": "error",
     "traceback": [
      "\u001b[0;31m---------------------------------------------------------------------------\u001b[0m",
      "\u001b[0;31mKeyboardInterrupt\u001b[0m                         Traceback (most recent call last)",
      "\u001b[1;32m/home/dwl2x/Libs/tf-set-transformer/mnist_pointcloud.ipynb Cell 24'\u001b[0m in \u001b[0;36m<cell line: 1>\u001b[0;34m()\u001b[0m\n\u001b[1;32m      <a href='vscode-notebook-cell://ssh-remote%2Braziel/home/dwl2x/Libs/tf-set-transformer/mnist_pointcloud.ipynb#ch0000015vscode-remote?line=0'>1</a>\u001b[0m \u001b[39mwith\u001b[39;00m strategy\u001b[39m.\u001b[39mscope():\n\u001b[0;32m----> <a href='vscode-notebook-cell://ssh-remote%2Braziel/home/dwl2x/Libs/tf-set-transformer/mnist_pointcloud.ipynb#ch0000015vscode-remote?line=1'>2</a>\u001b[0m     history \u001b[39m=\u001b[39m model\u001b[39m.\u001b[39;49mfit(train_dataset, validation_data\u001b[39m=\u001b[39;49mval_dataset, epochs\u001b[39m=\u001b[39;49m\u001b[39m20\u001b[39;49m)\n",
      "File \u001b[0;32m/opt/conda/lib/python3.9/site-packages/keras/utils/traceback_utils.py:64\u001b[0m, in \u001b[0;36mfilter_traceback.<locals>.error_handler\u001b[0;34m(*args, **kwargs)\u001b[0m\n\u001b[1;32m     <a href='file:///opt/conda/lib/python3.9/site-packages/keras/utils/traceback_utils.py?line=61'>62</a>\u001b[0m filtered_tb \u001b[39m=\u001b[39m \u001b[39mNone\u001b[39;00m\n\u001b[1;32m     <a href='file:///opt/conda/lib/python3.9/site-packages/keras/utils/traceback_utils.py?line=62'>63</a>\u001b[0m \u001b[39mtry\u001b[39;00m:\n\u001b[0;32m---> <a href='file:///opt/conda/lib/python3.9/site-packages/keras/utils/traceback_utils.py?line=63'>64</a>\u001b[0m   \u001b[39mreturn\u001b[39;00m fn(\u001b[39m*\u001b[39;49margs, \u001b[39m*\u001b[39;49m\u001b[39m*\u001b[39;49mkwargs)\n\u001b[1;32m     <a href='file:///opt/conda/lib/python3.9/site-packages/keras/utils/traceback_utils.py?line=64'>65</a>\u001b[0m \u001b[39mexcept\u001b[39;00m \u001b[39mException\u001b[39;00m \u001b[39mas\u001b[39;00m e:  \u001b[39m# pylint: disable=broad-except\u001b[39;00m\n\u001b[1;32m     <a href='file:///opt/conda/lib/python3.9/site-packages/keras/utils/traceback_utils.py?line=65'>66</a>\u001b[0m   filtered_tb \u001b[39m=\u001b[39m _process_traceback_frames(e\u001b[39m.\u001b[39m__traceback__)\n",
      "File \u001b[0;32m/opt/conda/lib/python3.9/site-packages/keras/engine/training.py:1221\u001b[0m, in \u001b[0;36mModel.fit\u001b[0;34m(self, x, y, batch_size, epochs, verbose, callbacks, validation_split, validation_data, shuffle, class_weight, sample_weight, initial_epoch, steps_per_epoch, validation_steps, validation_batch_size, validation_freq, max_queue_size, workers, use_multiprocessing)\u001b[0m\n\u001b[1;32m   <a href='file:///opt/conda/lib/python3.9/site-packages/keras/engine/training.py?line=1218'>1219</a>\u001b[0m logs \u001b[39m=\u001b[39m tmp_logs  \u001b[39m# No error, now safe to assign to logs.\u001b[39;00m\n\u001b[1;32m   <a href='file:///opt/conda/lib/python3.9/site-packages/keras/engine/training.py?line=1219'>1220</a>\u001b[0m end_step \u001b[39m=\u001b[39m step \u001b[39m+\u001b[39m data_handler\u001b[39m.\u001b[39mstep_increment\n\u001b[0;32m-> <a href='file:///opt/conda/lib/python3.9/site-packages/keras/engine/training.py?line=1220'>1221</a>\u001b[0m callbacks\u001b[39m.\u001b[39;49mon_train_batch_end(end_step, logs)\n\u001b[1;32m   <a href='file:///opt/conda/lib/python3.9/site-packages/keras/engine/training.py?line=1221'>1222</a>\u001b[0m \u001b[39mif\u001b[39;00m \u001b[39mself\u001b[39m\u001b[39m.\u001b[39mstop_training:\n\u001b[1;32m   <a href='file:///opt/conda/lib/python3.9/site-packages/keras/engine/training.py?line=1222'>1223</a>\u001b[0m   \u001b[39mbreak\u001b[39;00m\n",
      "File \u001b[0;32m/opt/conda/lib/python3.9/site-packages/keras/callbacks.py:436\u001b[0m, in \u001b[0;36mCallbackList.on_train_batch_end\u001b[0;34m(self, batch, logs)\u001b[0m\n\u001b[1;32m    <a href='file:///opt/conda/lib/python3.9/site-packages/keras/callbacks.py?line=428'>429</a>\u001b[0m \u001b[39m\"\"\"Calls the `on_train_batch_end` methods of its callbacks.\u001b[39;00m\n\u001b[1;32m    <a href='file:///opt/conda/lib/python3.9/site-packages/keras/callbacks.py?line=429'>430</a>\u001b[0m \n\u001b[1;32m    <a href='file:///opt/conda/lib/python3.9/site-packages/keras/callbacks.py?line=430'>431</a>\u001b[0m \u001b[39mArgs:\u001b[39;00m\n\u001b[1;32m    <a href='file:///opt/conda/lib/python3.9/site-packages/keras/callbacks.py?line=431'>432</a>\u001b[0m \u001b[39m    batch: Integer, index of batch within the current epoch.\u001b[39;00m\n\u001b[1;32m    <a href='file:///opt/conda/lib/python3.9/site-packages/keras/callbacks.py?line=432'>433</a>\u001b[0m \u001b[39m    logs: Dict. Aggregated metric results up until this batch.\u001b[39;00m\n\u001b[1;32m    <a href='file:///opt/conda/lib/python3.9/site-packages/keras/callbacks.py?line=433'>434</a>\u001b[0m \u001b[39m\"\"\"\u001b[39;00m\n\u001b[1;32m    <a href='file:///opt/conda/lib/python3.9/site-packages/keras/callbacks.py?line=434'>435</a>\u001b[0m \u001b[39mif\u001b[39;00m \u001b[39mself\u001b[39m\u001b[39m.\u001b[39m_should_call_train_batch_hooks:\n\u001b[0;32m--> <a href='file:///opt/conda/lib/python3.9/site-packages/keras/callbacks.py?line=435'>436</a>\u001b[0m   \u001b[39mself\u001b[39;49m\u001b[39m.\u001b[39;49m_call_batch_hook(ModeKeys\u001b[39m.\u001b[39;49mTRAIN, \u001b[39m'\u001b[39;49m\u001b[39mend\u001b[39;49m\u001b[39m'\u001b[39;49m, batch, logs\u001b[39m=\u001b[39;49mlogs)\n",
      "File \u001b[0;32m/opt/conda/lib/python3.9/site-packages/keras/callbacks.py:295\u001b[0m, in \u001b[0;36mCallbackList._call_batch_hook\u001b[0;34m(self, mode, hook, batch, logs)\u001b[0m\n\u001b[1;32m    <a href='file:///opt/conda/lib/python3.9/site-packages/keras/callbacks.py?line=292'>293</a>\u001b[0m   \u001b[39mself\u001b[39m\u001b[39m.\u001b[39m_call_batch_begin_hook(mode, batch, logs)\n\u001b[1;32m    <a href='file:///opt/conda/lib/python3.9/site-packages/keras/callbacks.py?line=293'>294</a>\u001b[0m \u001b[39melif\u001b[39;00m hook \u001b[39m==\u001b[39m \u001b[39m'\u001b[39m\u001b[39mend\u001b[39m\u001b[39m'\u001b[39m:\n\u001b[0;32m--> <a href='file:///opt/conda/lib/python3.9/site-packages/keras/callbacks.py?line=294'>295</a>\u001b[0m   \u001b[39mself\u001b[39;49m\u001b[39m.\u001b[39;49m_call_batch_end_hook(mode, batch, logs)\n\u001b[1;32m    <a href='file:///opt/conda/lib/python3.9/site-packages/keras/callbacks.py?line=295'>296</a>\u001b[0m \u001b[39melse\u001b[39;00m:\n\u001b[1;32m    <a href='file:///opt/conda/lib/python3.9/site-packages/keras/callbacks.py?line=296'>297</a>\u001b[0m   \u001b[39mraise\u001b[39;00m \u001b[39mValueError\u001b[39;00m(\n\u001b[1;32m    <a href='file:///opt/conda/lib/python3.9/site-packages/keras/callbacks.py?line=297'>298</a>\u001b[0m       \u001b[39mf\u001b[39m\u001b[39m'\u001b[39m\u001b[39mUnrecognized hook: \u001b[39m\u001b[39m{\u001b[39;00mhook\u001b[39m}\u001b[39;00m\u001b[39m. Expected values are [\u001b[39m\u001b[39m\"\u001b[39m\u001b[39mbegin\u001b[39m\u001b[39m\"\u001b[39m\u001b[39m, \u001b[39m\u001b[39m\"\u001b[39m\u001b[39mend\u001b[39m\u001b[39m\"\u001b[39m\u001b[39m]\u001b[39m\u001b[39m'\u001b[39m)\n",
      "File \u001b[0;32m/opt/conda/lib/python3.9/site-packages/keras/callbacks.py:316\u001b[0m, in \u001b[0;36mCallbackList._call_batch_end_hook\u001b[0;34m(self, mode, batch, logs)\u001b[0m\n\u001b[1;32m    <a href='file:///opt/conda/lib/python3.9/site-packages/keras/callbacks.py?line=312'>313</a>\u001b[0m   batch_time \u001b[39m=\u001b[39m time\u001b[39m.\u001b[39mtime() \u001b[39m-\u001b[39m \u001b[39mself\u001b[39m\u001b[39m.\u001b[39m_batch_start_time\n\u001b[1;32m    <a href='file:///opt/conda/lib/python3.9/site-packages/keras/callbacks.py?line=313'>314</a>\u001b[0m   \u001b[39mself\u001b[39m\u001b[39m.\u001b[39m_batch_times\u001b[39m.\u001b[39mappend(batch_time)\n\u001b[0;32m--> <a href='file:///opt/conda/lib/python3.9/site-packages/keras/callbacks.py?line=315'>316</a>\u001b[0m \u001b[39mself\u001b[39;49m\u001b[39m.\u001b[39;49m_call_batch_hook_helper(hook_name, batch, logs)\n\u001b[1;32m    <a href='file:///opt/conda/lib/python3.9/site-packages/keras/callbacks.py?line=317'>318</a>\u001b[0m \u001b[39mif\u001b[39;00m \u001b[39mlen\u001b[39m(\u001b[39mself\u001b[39m\u001b[39m.\u001b[39m_batch_times) \u001b[39m>\u001b[39m\u001b[39m=\u001b[39m \u001b[39mself\u001b[39m\u001b[39m.\u001b[39m_num_batches_for_timing_check:\n\u001b[1;32m    <a href='file:///opt/conda/lib/python3.9/site-packages/keras/callbacks.py?line=318'>319</a>\u001b[0m   end_hook_name \u001b[39m=\u001b[39m hook_name\n",
      "File \u001b[0;32m/opt/conda/lib/python3.9/site-packages/keras/callbacks.py:354\u001b[0m, in \u001b[0;36mCallbackList._call_batch_hook_helper\u001b[0;34m(self, hook_name, batch, logs)\u001b[0m\n\u001b[1;32m    <a href='file:///opt/conda/lib/python3.9/site-packages/keras/callbacks.py?line=351'>352</a>\u001b[0m \u001b[39mfor\u001b[39;00m callback \u001b[39min\u001b[39;00m \u001b[39mself\u001b[39m\u001b[39m.\u001b[39mcallbacks:\n\u001b[1;32m    <a href='file:///opt/conda/lib/python3.9/site-packages/keras/callbacks.py?line=352'>353</a>\u001b[0m   hook \u001b[39m=\u001b[39m \u001b[39mgetattr\u001b[39m(callback, hook_name)\n\u001b[0;32m--> <a href='file:///opt/conda/lib/python3.9/site-packages/keras/callbacks.py?line=353'>354</a>\u001b[0m   hook(batch, logs)\n\u001b[1;32m    <a href='file:///opt/conda/lib/python3.9/site-packages/keras/callbacks.py?line=355'>356</a>\u001b[0m \u001b[39mif\u001b[39;00m \u001b[39mself\u001b[39m\u001b[39m.\u001b[39m_check_timing:\n\u001b[1;32m    <a href='file:///opt/conda/lib/python3.9/site-packages/keras/callbacks.py?line=356'>357</a>\u001b[0m   \u001b[39mif\u001b[39;00m hook_name \u001b[39mnot\u001b[39;00m \u001b[39min\u001b[39;00m \u001b[39mself\u001b[39m\u001b[39m.\u001b[39m_hook_times:\n",
      "File \u001b[0;32m/opt/conda/lib/python3.9/site-packages/keras/callbacks.py:1032\u001b[0m, in \u001b[0;36mProgbarLogger.on_train_batch_end\u001b[0;34m(self, batch, logs)\u001b[0m\n\u001b[1;32m   <a href='file:///opt/conda/lib/python3.9/site-packages/keras/callbacks.py?line=1030'>1031</a>\u001b[0m \u001b[39mdef\u001b[39;00m \u001b[39mon_train_batch_end\u001b[39m(\u001b[39mself\u001b[39m, batch, logs\u001b[39m=\u001b[39m\u001b[39mNone\u001b[39;00m):\n\u001b[0;32m-> <a href='file:///opt/conda/lib/python3.9/site-packages/keras/callbacks.py?line=1031'>1032</a>\u001b[0m   \u001b[39mself\u001b[39;49m\u001b[39m.\u001b[39;49m_batch_update_progbar(batch, logs)\n",
      "File \u001b[0;32m/opt/conda/lib/python3.9/site-packages/keras/callbacks.py:1104\u001b[0m, in \u001b[0;36mProgbarLogger._batch_update_progbar\u001b[0;34m(self, batch, logs)\u001b[0m\n\u001b[1;32m   <a href='file:///opt/conda/lib/python3.9/site-packages/keras/callbacks.py?line=1099'>1100</a>\u001b[0m   \u001b[39mself\u001b[39m\u001b[39m.\u001b[39mseen \u001b[39m+\u001b[39m\u001b[39m=\u001b[39m add_seen\n\u001b[1;32m   <a href='file:///opt/conda/lib/python3.9/site-packages/keras/callbacks.py?line=1101'>1102</a>\u001b[0m \u001b[39mif\u001b[39;00m \u001b[39mself\u001b[39m\u001b[39m.\u001b[39mverbose \u001b[39m==\u001b[39m \u001b[39m1\u001b[39m:\n\u001b[1;32m   <a href='file:///opt/conda/lib/python3.9/site-packages/keras/callbacks.py?line=1102'>1103</a>\u001b[0m   \u001b[39m# Only block async when verbose = 1.\u001b[39;00m\n\u001b[0;32m-> <a href='file:///opt/conda/lib/python3.9/site-packages/keras/callbacks.py?line=1103'>1104</a>\u001b[0m   logs \u001b[39m=\u001b[39m tf_utils\u001b[39m.\u001b[39;49msync_to_numpy_or_python_type(logs)\n\u001b[1;32m   <a href='file:///opt/conda/lib/python3.9/site-packages/keras/callbacks.py?line=1104'>1105</a>\u001b[0m   \u001b[39mself\u001b[39m\u001b[39m.\u001b[39mprogbar\u001b[39m.\u001b[39mupdate(\u001b[39mself\u001b[39m\u001b[39m.\u001b[39mseen, \u001b[39mlist\u001b[39m(logs\u001b[39m.\u001b[39mitems()), finalize\u001b[39m=\u001b[39m\u001b[39mFalse\u001b[39;00m)\n",
      "File \u001b[0;32m/opt/conda/lib/python3.9/site-packages/keras/utils/tf_utils.py:554\u001b[0m, in \u001b[0;36msync_to_numpy_or_python_type\u001b[0;34m(tensors)\u001b[0m\n\u001b[1;32m    <a href='file:///opt/conda/lib/python3.9/site-packages/keras/utils/tf_utils.py?line=550'>551</a>\u001b[0m     \u001b[39mreturn\u001b[39;00m x\u001b[39m.\u001b[39mitem() \u001b[39mif\u001b[39;00m np\u001b[39m.\u001b[39mndim(x) \u001b[39m==\u001b[39m \u001b[39m0\u001b[39m \u001b[39melse\u001b[39;00m x\n\u001b[1;32m    <a href='file:///opt/conda/lib/python3.9/site-packages/keras/utils/tf_utils.py?line=551'>552</a>\u001b[0m   \u001b[39mreturn\u001b[39;00m t  \u001b[39m# Don't turn ragged or sparse tensors to NumPy.\u001b[39;00m\n\u001b[0;32m--> <a href='file:///opt/conda/lib/python3.9/site-packages/keras/utils/tf_utils.py?line=553'>554</a>\u001b[0m \u001b[39mreturn\u001b[39;00m tf\u001b[39m.\u001b[39;49mnest\u001b[39m.\u001b[39;49mmap_structure(_to_single_numpy_or_python_type, tensors)\n",
      "File \u001b[0;32m/opt/conda/lib/python3.9/site-packages/tensorflow/python/util/nest.py:869\u001b[0m, in \u001b[0;36mmap_structure\u001b[0;34m(func, *structure, **kwargs)\u001b[0m\n\u001b[1;32m    <a href='file:///opt/conda/lib/python3.9/site-packages/tensorflow/python/util/nest.py?line=864'>865</a>\u001b[0m flat_structure \u001b[39m=\u001b[39m (flatten(s, expand_composites) \u001b[39mfor\u001b[39;00m s \u001b[39min\u001b[39;00m structure)\n\u001b[1;32m    <a href='file:///opt/conda/lib/python3.9/site-packages/tensorflow/python/util/nest.py?line=865'>866</a>\u001b[0m entries \u001b[39m=\u001b[39m \u001b[39mzip\u001b[39m(\u001b[39m*\u001b[39mflat_structure)\n\u001b[1;32m    <a href='file:///opt/conda/lib/python3.9/site-packages/tensorflow/python/util/nest.py?line=867'>868</a>\u001b[0m \u001b[39mreturn\u001b[39;00m pack_sequence_as(\n\u001b[0;32m--> <a href='file:///opt/conda/lib/python3.9/site-packages/tensorflow/python/util/nest.py?line=868'>869</a>\u001b[0m     structure[\u001b[39m0\u001b[39m], [func(\u001b[39m*\u001b[39mx) \u001b[39mfor\u001b[39;00m x \u001b[39min\u001b[39;00m entries],\n\u001b[1;32m    <a href='file:///opt/conda/lib/python3.9/site-packages/tensorflow/python/util/nest.py?line=869'>870</a>\u001b[0m     expand_composites\u001b[39m=\u001b[39mexpand_composites)\n",
      "File \u001b[0;32m/opt/conda/lib/python3.9/site-packages/tensorflow/python/util/nest.py:869\u001b[0m, in \u001b[0;36m<listcomp>\u001b[0;34m(.0)\u001b[0m\n\u001b[1;32m    <a href='file:///opt/conda/lib/python3.9/site-packages/tensorflow/python/util/nest.py?line=864'>865</a>\u001b[0m flat_structure \u001b[39m=\u001b[39m (flatten(s, expand_composites) \u001b[39mfor\u001b[39;00m s \u001b[39min\u001b[39;00m structure)\n\u001b[1;32m    <a href='file:///opt/conda/lib/python3.9/site-packages/tensorflow/python/util/nest.py?line=865'>866</a>\u001b[0m entries \u001b[39m=\u001b[39m \u001b[39mzip\u001b[39m(\u001b[39m*\u001b[39mflat_structure)\n\u001b[1;32m    <a href='file:///opt/conda/lib/python3.9/site-packages/tensorflow/python/util/nest.py?line=867'>868</a>\u001b[0m \u001b[39mreturn\u001b[39;00m pack_sequence_as(\n\u001b[0;32m--> <a href='file:///opt/conda/lib/python3.9/site-packages/tensorflow/python/util/nest.py?line=868'>869</a>\u001b[0m     structure[\u001b[39m0\u001b[39m], [func(\u001b[39m*\u001b[39;49mx) \u001b[39mfor\u001b[39;00m x \u001b[39min\u001b[39;00m entries],\n\u001b[1;32m    <a href='file:///opt/conda/lib/python3.9/site-packages/tensorflow/python/util/nest.py?line=869'>870</a>\u001b[0m     expand_composites\u001b[39m=\u001b[39mexpand_composites)\n",
      "File \u001b[0;32m/opt/conda/lib/python3.9/site-packages/keras/utils/tf_utils.py:550\u001b[0m, in \u001b[0;36msync_to_numpy_or_python_type.<locals>._to_single_numpy_or_python_type\u001b[0;34m(t)\u001b[0m\n\u001b[1;32m    <a href='file:///opt/conda/lib/python3.9/site-packages/keras/utils/tf_utils.py?line=547'>548</a>\u001b[0m \u001b[39mdef\u001b[39;00m \u001b[39m_to_single_numpy_or_python_type\u001b[39m(t):\n\u001b[1;32m    <a href='file:///opt/conda/lib/python3.9/site-packages/keras/utils/tf_utils.py?line=548'>549</a>\u001b[0m   \u001b[39mif\u001b[39;00m \u001b[39misinstance\u001b[39m(t, tf\u001b[39m.\u001b[39mTensor):\n\u001b[0;32m--> <a href='file:///opt/conda/lib/python3.9/site-packages/keras/utils/tf_utils.py?line=549'>550</a>\u001b[0m     x \u001b[39m=\u001b[39m t\u001b[39m.\u001b[39;49mnumpy()\n\u001b[1;32m    <a href='file:///opt/conda/lib/python3.9/site-packages/keras/utils/tf_utils.py?line=550'>551</a>\u001b[0m     \u001b[39mreturn\u001b[39;00m x\u001b[39m.\u001b[39mitem() \u001b[39mif\u001b[39;00m np\u001b[39m.\u001b[39mndim(x) \u001b[39m==\u001b[39m \u001b[39m0\u001b[39m \u001b[39melse\u001b[39;00m x\n\u001b[1;32m    <a href='file:///opt/conda/lib/python3.9/site-packages/keras/utils/tf_utils.py?line=551'>552</a>\u001b[0m   \u001b[39mreturn\u001b[39;00m t\n",
      "File \u001b[0;32m/opt/conda/lib/python3.9/site-packages/tensorflow/python/framework/ops.py:1149\u001b[0m, in \u001b[0;36m_EagerTensorBase.numpy\u001b[0;34m(self)\u001b[0m\n\u001b[1;32m   <a href='file:///opt/conda/lib/python3.9/site-packages/tensorflow/python/framework/ops.py?line=1125'>1126</a>\u001b[0m \u001b[39m\"\"\"Copy of the contents of this Tensor into a NumPy array or scalar.\u001b[39;00m\n\u001b[1;32m   <a href='file:///opt/conda/lib/python3.9/site-packages/tensorflow/python/framework/ops.py?line=1126'>1127</a>\u001b[0m \n\u001b[1;32m   <a href='file:///opt/conda/lib/python3.9/site-packages/tensorflow/python/framework/ops.py?line=1127'>1128</a>\u001b[0m \u001b[39mUnlike NumPy arrays, Tensors are immutable, so this method has to copy\u001b[39;00m\n\u001b[0;32m   (...)\u001b[0m\n\u001b[1;32m   <a href='file:///opt/conda/lib/python3.9/site-packages/tensorflow/python/framework/ops.py?line=1145'>1146</a>\u001b[0m \u001b[39m    NumPy dtype.\u001b[39;00m\n\u001b[1;32m   <a href='file:///opt/conda/lib/python3.9/site-packages/tensorflow/python/framework/ops.py?line=1146'>1147</a>\u001b[0m \u001b[39m\"\"\"\u001b[39;00m\n\u001b[1;32m   <a href='file:///opt/conda/lib/python3.9/site-packages/tensorflow/python/framework/ops.py?line=1147'>1148</a>\u001b[0m \u001b[39m# TODO(slebedev): Consider avoiding a copy for non-CPU or remote tensors.\u001b[39;00m\n\u001b[0;32m-> <a href='file:///opt/conda/lib/python3.9/site-packages/tensorflow/python/framework/ops.py?line=1148'>1149</a>\u001b[0m maybe_arr \u001b[39m=\u001b[39m \u001b[39mself\u001b[39;49m\u001b[39m.\u001b[39;49m_numpy()  \u001b[39m# pylint: disable=protected-access\u001b[39;00m\n\u001b[1;32m   <a href='file:///opt/conda/lib/python3.9/site-packages/tensorflow/python/framework/ops.py?line=1149'>1150</a>\u001b[0m \u001b[39mreturn\u001b[39;00m maybe_arr\u001b[39m.\u001b[39mcopy() \u001b[39mif\u001b[39;00m \u001b[39misinstance\u001b[39m(maybe_arr, np\u001b[39m.\u001b[39mndarray) \u001b[39melse\u001b[39;00m maybe_arr\n",
      "File \u001b[0;32m/opt/conda/lib/python3.9/site-packages/tensorflow/python/framework/ops.py:1115\u001b[0m, in \u001b[0;36m_EagerTensorBase._numpy\u001b[0;34m(self)\u001b[0m\n\u001b[1;32m   <a href='file:///opt/conda/lib/python3.9/site-packages/tensorflow/python/framework/ops.py?line=1112'>1113</a>\u001b[0m \u001b[39mdef\u001b[39;00m \u001b[39m_numpy\u001b[39m(\u001b[39mself\u001b[39m):\n\u001b[1;32m   <a href='file:///opt/conda/lib/python3.9/site-packages/tensorflow/python/framework/ops.py?line=1113'>1114</a>\u001b[0m   \u001b[39mtry\u001b[39;00m:\n\u001b[0;32m-> <a href='file:///opt/conda/lib/python3.9/site-packages/tensorflow/python/framework/ops.py?line=1114'>1115</a>\u001b[0m     \u001b[39mreturn\u001b[39;00m \u001b[39mself\u001b[39;49m\u001b[39m.\u001b[39;49m_numpy_internal()\n\u001b[1;32m   <a href='file:///opt/conda/lib/python3.9/site-packages/tensorflow/python/framework/ops.py?line=1115'>1116</a>\u001b[0m   \u001b[39mexcept\u001b[39;00m core\u001b[39m.\u001b[39m_NotOkStatusException \u001b[39mas\u001b[39;00m e:  \u001b[39m# pylint: disable=protected-access\u001b[39;00m\n\u001b[1;32m   <a href='file:///opt/conda/lib/python3.9/site-packages/tensorflow/python/framework/ops.py?line=1116'>1117</a>\u001b[0m     \u001b[39mraise\u001b[39;00m core\u001b[39m.\u001b[39m_status_to_exception(e) \u001b[39mfrom\u001b[39;00m \u001b[39mNone\u001b[39m\n",
      "\u001b[0;31mKeyboardInterrupt\u001b[0m: "
     ]
    }
   ],
   "source": [
    "with strategy.scope():\n",
    "    history = model.fit(train_dataset, validation_data=val_dataset, epochs=20)\n",
    "    # history = model.fit(x_train, y_train, validation_split=0.2, epochs=20)"
   ]
  },
  {
   "cell_type": "code",
   "execution_count": null,
   "id": "77f69a1d",
   "metadata": {},
   "outputs": [
    {
     "data": {
      "image/png": "[encoded data removed]",
      "text/plain": [
       "<Figure size 432x288 with 1 Axes>"
      ]
     },
     "metadata": {
      "needs_background": "light"
     },
     "output_type": "display_data"
    }
   ],
   "source": [
    "plt.plot(history.history[\"sparse_categorical_accuracy\"])\n",
    "plt.plot(history.history[\"val_sparse_categorical_accuracy\"])\n",
    "plt.legend([\"Training\", \"Validation\"])\n",
    "plt.show()"
   ]
  },
  {
   "cell_type": "markdown",
   "id": "78ca53b9",
   "metadata": {},
   "source": [
    "### Evaluation"
   ]
  },
  {
   "cell_type": "code",
   "execution_count": 22,
   "id": "0a2d39d2",
   "metadata": {},
   "outputs": [
    {
     "name": "stdout",
     "output_type": "stream",
     "text": [
      " 20/312 [>.............................] - ETA: 1s - loss: 0.1750 - sparse_categorical_accuracy: 0.1297"
     ]
    },
    {
     "name": "stderr",
     "output_type": "stream",
     "text": [
      "2022-06-09 02:54:56.135295: W tensorflow/core/grappler/optimizers/data/auto_shard.cc:766] AUTO sharding policy will apply DATA sharding policy as it failed to apply FILE sharding policy because of the following reason: Did not find a shardable source, walked to a node which is not a dataset: name: \"FlatMapDataset/_2\"\n",
      "op: \"FlatMapDataset\"\n",
      "input: \"TensorDataset/_1\"\n",
      "attr {\n",
      "  key: \"Targuments\"\n",
      "  value {\n",
      "    list {\n",
      "    }\n",
      "  }\n",
      "}\n",
      "attr {\n",
      "  key: \"_cardinality\"\n",
      "  value {\n",
      "    i: -2\n",
      "  }\n",
      "}\n",
      "attr {\n",
      "  key: \"f\"\n",
      "  value {\n",
      "    func {\n",
      "      name: \"__inference_Dataset_flat_map_flat_map_fn_163540\"\n",
      "    }\n",
      "  }\n",
      "}\n",
      "attr {\n",
      "  key: \"metadata\"\n",
      "  value {\n",
      "    s: \"\\n\\022FlatMapDataset:295\"\n",
      "  }\n",
      "}\n",
      "attr {\n",
      "  key: \"output_shapes\"\n",
      "  value {\n",
      "    list {\n",
      "      shape {\n",
      "        dim {\n",
      "          size: -1\n",
      "        }\n",
      "        dim {\n",
      "          size: -1\n",
      "        }\n",
      "        dim {\n",
      "          size: -1\n",
      "        }\n",
      "      }\n",
      "      shape {\n",
      "        dim {\n",
      "          size: -1\n",
      "        }\n",
      "      }\n",
      "    }\n",
      "  }\n",
      "}\n",
      "attr {\n",
      "  key: \"output_types\"\n",
      "  value {\n",
      "    list {\n",
      "      type: DT_FLOAT\n",
      "      type: DT_INT32\n",
      "    }\n",
      "  }\n",
      "}\n",
      ". Consider either turning off auto-sharding or switching the auto_shard_policy to DATA to shard this dataset. You can do this by creating a new `tf.data.Options()` object then setting `options.experimental_distribute.auto_shard_policy = AutoShardPolicy.DATA` before applying the options object to the dataset via `dataset.with_options(options)`.\n"
     ]
    },
    {
     "name": "stdout",
     "output_type": "stream",
     "text": [
      "312/312 [==============================] - 2s 5ms/step - loss: 0.1528 - sparse_categorical_accuracy: 0.1270\n"
     ]
    }
   ],
   "source": [
    "with strategy.scope():\n",
    "    model.evaluate(test_dataset)"
   ]
  }
 ],
 "metadata": {
  "interpreter": {
   "hash": "d4d1e4263499bec80672ea0156c357c1ee493ec2b1c70f0acce89fc37c4a6abe"
  },
  "kernelspec": {
   "display_name": "Python 3.9.10 ('base')",
   "language": "python",
   "name": "python3"
  },
  "language_info": {
   "codemirror_mode": {
    "name": "ipython",
    "version": 3
   },
   "file_extension": ".py",
   "mimetype": "text/x-python",
   "name": "python",
   "nbconvert_exporter": "python",
   "pygments_lexer": "ipython3",
   "version": "3.9.10"
  }
 },
 "nbformat": 4,
 "nbformat_minor": 5
}
