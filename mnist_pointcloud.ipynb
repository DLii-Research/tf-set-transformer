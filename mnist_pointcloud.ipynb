{
 "cells": [
  {
   "cell_type": "markdown",
   "id": "7a852c20",
   "metadata": {
    "tags": []
   },
   "source": [
    "# MNIST Point Cloud Classification\n",
    "\n",
    "This task attempts to classify a set of 2D-points in the shape of a number. Using the MNIST dataset, point clouds are generated with a random number of points.\n",
    "\n",
    "**Note:** the datasets are not included in this repository. Instead, they need to be generated using the [MNIST Point Cloud](https://github.com/DLii-Research/mnist-pointcloud) library."
   ]
  },
  {
   "cell_type": "code",
   "execution_count": 2,
   "id": "f60d6f7c",
   "metadata": {},
   "outputs": [
    {
     "name": "stderr",
     "output_type": "stream",
     "text": [
      "2021-10-15 01:05:32.650748: I tensorflow/stream_executor/platform/default/dso_loader.cc:53] Successfully opened dynamic library libcudart.so.11.0\n"
     ]
    }
   ],
   "source": [
    "import matplotlib.pyplot as plt\n",
    "import numpy as np\n",
    "import tensorflow as tf\n",
    "import tensorflow.keras as keras\n",
    "\n",
    "import settransformer"
   ]
  },
  {
   "cell_type": "markdown",
   "id": "9559af89",
   "metadata": {},
   "source": [
    "## Strategy\n",
    "\n",
    "Grab the appropriate compute device(s)."
   ]
  },
  {
   "cell_type": "code",
   "execution_count": 3,
   "id": "4f2ca942",
   "metadata": {},
   "outputs": [],
   "source": [
    "DEVICE = \"gpu:0\"\n",
    "MULTI_GPU = False"
   ]
  },
  {
   "cell_type": "code",
   "execution_count": 5,
   "id": "e3662c5e",
   "metadata": {},
   "outputs": [],
   "source": [
    "if MULTI_GPU:\n",
    "    strategy = tf.distribute.MirroredStrategy()\n",
    "else:\n",
    "    strategy = tf.distribute.OneDeviceStrategy(DEVICE)"
   ]
  },
  {
   "cell_type": "markdown",
   "id": "9962f974",
   "metadata": {},
   "source": [
    "## Model Architecture"
   ]
  },
  {
   "cell_type": "code",
   "execution_count": 6,
   "id": "25a965ce",
   "metadata": {},
   "outputs": [],
   "source": [
    "class PointCloudSetTransformer(keras.models.Model):\n",
    "    def __init__(self, embed_dim=64, num_induce=32, num_heads=4):\n",
    "        super(PointCloudSetTransformer, self).__init__()\n",
    "        \n",
    "        # Encoder\n",
    "        inp = keras.layers.Input((None, 2))\n",
    "        out = keras.layers.Dense(embed_dim)(inp)\n",
    "        out = settransformer.InducedSetAttentionBlock(embed_dim, num_heads, num_induce, activation=\"gelu\")(out)\n",
    "        out = settransformer.InducedSetAttentionBlock(embed_dim, num_heads, num_induce, activation=\"gelu\")(out)\n",
    "        self.encoder = keras.models.Model(inp, out, name=\"Encoder\")\n",
    "        self.encoder.summary()\n",
    "        \n",
    "        # Decoder\n",
    "        inp = keras.layers.Input((None, embed_dim))\n",
    "        out = keras.layers.Dropout(0.5)(inp)\n",
    "        out = settransformer.PoolingByMultiHeadAttention(1, embed_dim, 1, activation=\"gelu\")(out)\n",
    "        out = keras.layers.Dropout(0.5)(out)\n",
    "        out = keras.layers.Dense(10)(out)\n",
    "        self.decoder = keras.models.Model(inp, out, name=\"Decoder\")\n",
    "        self.decoder.summary()\n",
    "        \n",
    "    def call(self, x):\n",
    "        return tf.squeeze(self.decoder(self.encoder(x)))"
   ]
  },
  {
   "cell_type": "markdown",
   "id": "acf462d1",
   "metadata": {},
   "source": [
    "## Set Transformers Configuration"
   ]
  },
  {
   "cell_type": "code",
   "execution_count": 7,
   "id": "79de8663",
   "metadata": {},
   "outputs": [
    {
     "data": {
      "text/plain": [
       "False"
      ]
     },
     "execution_count": 7,
     "metadata": {},
     "output_type": "execute_result"
    }
   ],
   "source": [
    "# Ensure the official MHA implementation is used rather than Keras\n",
    "settransformer.config(\"use_keras_mha\", False)"
   ]
  },
  {
   "cell_type": "markdown",
   "id": "f41bd485",
   "metadata": {
    "tags": []
   },
   "source": [
    "---\n",
    "## 100-Element Point Clouds"
   ]
  },
  {
   "cell_type": "code",
   "execution_count": 21,
   "id": "1de43735",
   "metadata": {},
   "outputs": [],
   "source": [
    "# Point Clouds\n",
    "with np.load(\"./datasets/mnist_point_cloud_train_100.npz\") as f:\n",
    "    x_train = f[list(f.keys())[0]]\n",
    "    \n",
    "with np.load(\"./datasets/mnist_point_cloud_test_100.npz\") as f:\n",
    "    x_test = f[list(f.keys())[0]]\n",
    "\n",
    "# Labels\n",
    "(_, y_train_labels), (_, y_test_labels) = keras.datasets.mnist.load_data()\n",
    "\n",
    "# One-hot encoded labels\n",
    "y_train = np.zeros((y_train_labels.size, y_train_labels.max()+1))\n",
    "y_train[np.arange(y_train_labels.size), y_train_labels] = 1\n",
    "y_test = np.zeros((y_test_labels.size, y_test_labels.max()+1))\n",
    "y_test[np.arange(y_test_labels.size), y_test_labels] = 1\n",
    "\n",
    "_ = None # Free memory"
   ]
  },
  {
   "cell_type": "code",
   "execution_count": 22,
   "id": "3b541385",
   "metadata": {},
   "outputs": [
    {
     "data": {
      "text/plain": [
       "((60000, 100, 2), (10000, 100, 2))"
      ]
     },
     "execution_count": 22,
     "metadata": {},
     "output_type": "execute_result"
    }
   ],
   "source": [
    "x_train.shape, x_test.shape"
   ]
  },
  {
   "cell_type": "code",
   "execution_count": 23,
   "id": "bc61b8d3",
   "metadata": {},
   "outputs": [
    {
     "data": {
      "text/plain": [
       "((60000, 10), (10000, 10))"
      ]
     },
     "execution_count": 23,
     "metadata": {},
     "output_type": "execute_result"
    }
   ],
   "source": [
    "y_train.shape, y_test.shape"
   ]
  },
  {
   "cell_type": "markdown",
   "id": "c77780d9",
   "metadata": {},
   "source": [
    "### Model"
   ]
  },
  {
   "cell_type": "code",
   "execution_count": 24,
   "id": "8c64c108",
   "metadata": {},
   "outputs": [
    {
     "name": "stdout",
     "output_type": "stream",
     "text": [
      "Model: \"Encoder\"\n",
      "_________________________________________________________________\n",
      "Layer (type)                 Output Shape              Param #   \n",
      "=================================================================\n",
      "input_5 (InputLayer)         [(None, None, 2)]         0         \n",
      "_________________________________________________________________\n",
      "dense_14 (Dense)             (None, None, 64)          192       \n",
      "_________________________________________________________________\n",
      "induced_set_attention_block_ (None, None, 64)          35328     \n",
      "_________________________________________________________________\n",
      "induced_set_attention_block_ (None, None, 64)          35328     \n",
      "=================================================================\n",
      "Total params: 70,848\n",
      "Trainable params: 70,848\n",
      "Non-trainable params: 0\n",
      "_________________________________________________________________\n",
      "Model: \"Decoder\"\n",
      "_________________________________________________________________\n",
      "Layer (type)                 Output Shape              Param #   \n",
      "=================================================================\n",
      "input_6 (InputLayer)         [(None, None, 64)]        0         \n",
      "_________________________________________________________________\n",
      "dropout_4 (Dropout)          (None, None, 64)          0         \n",
      "_________________________________________________________________\n",
      "pooling_by_multi_head_attent (None, 1, 64)             16704     \n",
      "_________________________________________________________________\n",
      "dropout_5 (Dropout)          (None, 1, 64)             0         \n",
      "_________________________________________________________________\n",
      "dense_35 (Dense)             (None, 1, 10)             650       \n",
      "=================================================================\n",
      "Total params: 17,354\n",
      "Trainable params: 17,354\n",
      "Non-trainable params: 0\n",
      "_________________________________________________________________\n"
     ]
    }
   ],
   "source": [
    "with strategy.scope():\n",
    "    model = PointCloudSetTransformer()\n",
    "    model.compile(\n",
    "        optimizer=keras.optimizers.Adam(1e-3),\n",
    "        loss=keras.losses.SparseCategoricalCrossentropy(from_logits=True),\n",
    "        metrics=keras.metrics.SparseCategoricalAccuracy()\n",
    "    )"
   ]
  },
  {
   "cell_type": "code",
   "execution_count": 25,
   "id": "ec76ebb2",
   "metadata": {},
   "outputs": [
    {
     "name": "stderr",
     "output_type": "stream",
     "text": [
      "2021-10-15 00:44:43.055787: I tensorflow/stream_executor/platform/default/dso_loader.cc:53] Successfully opened dynamic library libcublas.so.11\n",
      "2021-10-15 00:44:43.260197: I tensorflow/stream_executor/platform/default/dso_loader.cc:53] Successfully opened dynamic library libcublasLt.so.11\n"
     ]
    },
    {
     "data": {
      "text/plain": [
       "<tf.Tensor: shape=(10,), dtype=float32, numpy=\n",
       "array([  6.4771013 ,   2.5262141 ,   6.0746417 , -12.665114  ,\n",
       "         1.499412  ,   1.4662054 ,  -0.06396532,   6.378338  ,\n",
       "       -10.120645  ,   6.9462247 ], dtype=float32)>"
      ]
     },
     "execution_count": 25,
     "metadata": {},
     "output_type": "execute_result"
    }
   ],
   "source": [
    "model(x_train[:1])"
   ]
  },
  {
   "cell_type": "markdown",
   "id": "8f9565ab",
   "metadata": {},
   "source": [
    "### Training"
   ]
  },
  {
   "cell_type": "code",
   "execution_count": 26,
   "id": "07cb2ab7",
   "metadata": {},
   "outputs": [
    {
     "name": "stderr",
     "output_type": "stream",
     "text": [
      "2021-10-15 00:44:48.951560: W tensorflow/core/grappler/optimizers/data/auto_shard.cc:695] AUTO sharding policy will apply DATA sharding policy as it failed to apply FILE sharding policy because of the following reason: Did not find a shardable source, walked to a node which is not a dataset: name: \"FlatMapDataset/_9\"\n",
      "op: \"FlatMapDataset\"\n",
      "input: \"PrefetchDataset/_8\"\n",
      "attr {\n",
      "  key: \"Targuments\"\n",
      "  value {\n",
      "    list {\n",
      "    }\n",
      "  }\n",
      "}\n",
      "attr {\n",
      "  key: \"f\"\n",
      "  value {\n",
      "    func {\n",
      "      name: \"__inference_Dataset_flat_map_slice_batch_indices_3335\"\n",
      "    }\n",
      "  }\n",
      "}\n",
      "attr {\n",
      "  key: \"output_shapes\"\n",
      "  value {\n",
      "    list {\n",
      "      shape {\n",
      "        dim {\n",
      "          size: 32\n",
      "        }\n",
      "      }\n",
      "    }\n",
      "  }\n",
      "}\n",
      "attr {\n",
      "  key: \"output_types\"\n",
      "  value {\n",
      "    list {\n",
      "      type: DT_INT64\n",
      "    }\n",
      "  }\n",
      "}\n",
      ". Consider either turning off auto-sharding or switching the auto_shard_policy to DATA to shard this dataset. You can do this by creating a new `tf.data.Options()` object then setting `options.experimental_distribute.auto_shard_policy = AutoShardPolicy.DATA` before applying the options object to the dataset via `dataset.with_options(options)`.\n",
      "2021-10-15 00:44:48.958336: I tensorflow/compiler/mlir/mlir_graph_optimization_pass.cc:176] None of the MLIR Optimization Passes are enabled (registered 2)\n",
      "2021-10-15 00:44:48.975397: I tensorflow/core/platform/profile_utils/cpu_utils.cc:114] CPU Frequency: 3393110000 Hz\n"
     ]
    },
    {
     "name": "stdout",
     "output_type": "stream",
     "text": [
      "Epoch 1/20\n",
      "1496/1500 [============================>.] - ETA: 0s - loss: 1.3834 - sparse_categorical_accuracy: 0.5746"
     ]
    },
    {
     "name": "stderr",
     "output_type": "stream",
     "text": [
      "2021-10-15 00:45:00.647938: W tensorflow/core/grappler/optimizers/data/auto_shard.cc:695] AUTO sharding policy will apply DATA sharding policy as it failed to apply FILE sharding policy because of the following reason: Did not find a shardable source, walked to a node which is not a dataset: name: \"FlatMapDataset/_9\"\n",
      "op: \"FlatMapDataset\"\n",
      "input: \"PrefetchDataset/_8\"\n",
      "attr {\n",
      "  key: \"Targuments\"\n",
      "  value {\n",
      "    list {\n",
      "    }\n",
      "  }\n",
      "}\n",
      "attr {\n",
      "  key: \"f\"\n",
      "  value {\n",
      "    func {\n",
      "      name: \"__inference_Dataset_flat_map_slice_batch_indices_9458\"\n",
      "    }\n",
      "  }\n",
      "}\n",
      "attr {\n",
      "  key: \"output_shapes\"\n",
      "  value {\n",
      "    list {\n",
      "      shape {\n",
      "        dim {\n",
      "          size: 32\n",
      "        }\n",
      "      }\n",
      "    }\n",
      "  }\n",
      "}\n",
      "attr {\n",
      "  key: \"output_types\"\n",
      "  value {\n",
      "    list {\n",
      "      type: DT_INT64\n",
      "    }\n",
      "  }\n",
      "}\n",
      ". Consider either turning off auto-sharding or switching the auto_shard_policy to DATA to shard this dataset. You can do this by creating a new `tf.data.Options()` object then setting `options.experimental_distribute.auto_shard_policy = AutoShardPolicy.DATA` before applying the options object to the dataset via `dataset.with_options(options)`.\n"
     ]
    },
    {
     "name": "stdout",
     "output_type": "stream",
     "text": [
      "1500/1500 [==============================] - 13s 8ms/step - loss: 1.3812 - sparse_categorical_accuracy: 0.5752 - val_loss: 0.5004 - val_sparse_categorical_accuracy: 0.8332\n",
      "Epoch 2/20\n",
      "1500/1500 [==============================] - 11s 7ms/step - loss: 0.5952 - sparse_categorical_accuracy: 0.8060 - val_loss: 0.3955 - val_sparse_categorical_accuracy: 0.8706\n",
      "Epoch 3/20\n",
      "1500/1500 [==============================] - 11s 7ms/step - loss: 0.4768 - sparse_categorical_accuracy: 0.8464 - val_loss: 0.3304 - val_sparse_categorical_accuracy: 0.8938\n",
      "Epoch 4/20\n",
      "1500/1500 [==============================] - 11s 7ms/step - loss: 0.4053 - sparse_categorical_accuracy: 0.8710 - val_loss: 0.3395 - val_sparse_categorical_accuracy: 0.8928\n",
      "Epoch 5/20\n",
      "1500/1500 [==============================] - 11s 8ms/step - loss: 0.3445 - sparse_categorical_accuracy: 0.8931 - val_loss: 0.2741 - val_sparse_categorical_accuracy: 0.9112\n",
      "Epoch 6/20\n",
      "1500/1500 [==============================] - 11s 7ms/step - loss: 0.3056 - sparse_categorical_accuracy: 0.9059 - val_loss: 0.2049 - val_sparse_categorical_accuracy: 0.9323\n",
      "Epoch 7/20\n",
      "1500/1500 [==============================] - 11s 7ms/step - loss: 0.2883 - sparse_categorical_accuracy: 0.9116 - val_loss: 0.2454 - val_sparse_categorical_accuracy: 0.9190\n",
      "Epoch 8/20\n",
      "1500/1500 [==============================] - 11s 7ms/step - loss: 0.2659 - sparse_categorical_accuracy: 0.9165 - val_loss: 0.1893 - val_sparse_categorical_accuracy: 0.9384\n",
      "Epoch 9/20\n",
      "1500/1500 [==============================] - 11s 7ms/step - loss: 0.2535 - sparse_categorical_accuracy: 0.9236 - val_loss: 0.2786 - val_sparse_categorical_accuracy: 0.9103\n",
      "Epoch 10/20\n",
      "1500/1500 [==============================] - 11s 7ms/step - loss: 0.2436 - sparse_categorical_accuracy: 0.9258 - val_loss: 0.2391 - val_sparse_categorical_accuracy: 0.9261\n",
      "Epoch 11/20\n",
      "1500/1500 [==============================] - 11s 7ms/step - loss: 0.2330 - sparse_categorical_accuracy: 0.9285 - val_loss: 0.1857 - val_sparse_categorical_accuracy: 0.9396\n",
      "Epoch 12/20\n",
      "1500/1500 [==============================] - 11s 7ms/step - loss: 0.2247 - sparse_categorical_accuracy: 0.9315 - val_loss: 0.1839 - val_sparse_categorical_accuracy: 0.9425\n",
      "Epoch 13/20\n",
      "1500/1500 [==============================] - 11s 7ms/step - loss: 0.2190 - sparse_categorical_accuracy: 0.9317 - val_loss: 0.1661 - val_sparse_categorical_accuracy: 0.9467\n",
      "Epoch 14/20\n",
      "1500/1500 [==============================] - 11s 7ms/step - loss: 0.2053 - sparse_categorical_accuracy: 0.9372 - val_loss: 0.1639 - val_sparse_categorical_accuracy: 0.9485\n",
      "Epoch 15/20\n",
      "1500/1500 [==============================] - 11s 7ms/step - loss: 0.2072 - sparse_categorical_accuracy: 0.9348 - val_loss: 0.1510 - val_sparse_categorical_accuracy: 0.9527\n",
      "Epoch 16/20\n",
      "1500/1500 [==============================] - 11s 7ms/step - loss: 0.1960 - sparse_categorical_accuracy: 0.9407 - val_loss: 0.1552 - val_sparse_categorical_accuracy: 0.9489\n",
      "Epoch 17/20\n",
      "1500/1500 [==============================] - 11s 7ms/step - loss: 0.1917 - sparse_categorical_accuracy: 0.9411 - val_loss: 0.1730 - val_sparse_categorical_accuracy: 0.9473\n",
      "Epoch 18/20\n",
      "1500/1500 [==============================] - 11s 7ms/step - loss: 0.1915 - sparse_categorical_accuracy: 0.9408 - val_loss: 0.1588 - val_sparse_categorical_accuracy: 0.9485\n",
      "Epoch 19/20\n",
      "1500/1500 [==============================] - 11s 7ms/step - loss: 0.1835 - sparse_categorical_accuracy: 0.9427 - val_loss: 0.1760 - val_sparse_categorical_accuracy: 0.9493\n",
      "Epoch 20/20\n",
      "1500/1500 [==============================] - 11s 7ms/step - loss: 0.1827 - sparse_categorical_accuracy: 0.9448 - val_loss: 0.1418 - val_sparse_categorical_accuracy: 0.9557\n"
     ]
    }
   ],
   "source": [
    "with strategy.scope():\n",
    "    history = model.fit(x_train, y_train_labels, validation_split=0.2, epochs=20)"
   ]
  },
  {
   "cell_type": "code",
   "execution_count": 28,
   "id": "697a3afa",
   "metadata": {},
   "outputs": [
    {
     "name": "stdout",
     "output_type": "stream",
     "text": [
      "   15/10000 [..............................] - ETA: 1:19 - loss: 0.0177 - sparse_categorical_accuracy: 1.0000   "
     ]
    },
    {
     "name": "stderr",
     "output_type": "stream",
     "text": [
      "2021-10-15 00:49:59.163443: W tensorflow/core/grappler/optimizers/data/auto_shard.cc:695] AUTO sharding policy will apply DATA sharding policy as it failed to apply FILE sharding policy because of the following reason: Did not find a shardable source, walked to a node which is not a dataset: name: \"FlatMapDataset/_9\"\n",
      "op: \"FlatMapDataset\"\n",
      "input: \"PrefetchDataset/_8\"\n",
      "attr {\n",
      "  key: \"Targuments\"\n",
      "  value {\n",
      "    list {\n",
      "    }\n",
      "  }\n",
      "}\n",
      "attr {\n",
      "  key: \"f\"\n",
      "  value {\n",
      "    func {\n",
      "      name: \"__inference_Dataset_flat_map_slice_batch_indices_84532\"\n",
      "    }\n",
      "  }\n",
      "}\n",
      "attr {\n",
      "  key: \"output_shapes\"\n",
      "  value {\n",
      "    list {\n",
      "      shape {\n",
      "        dim {\n",
      "          size: 1\n",
      "        }\n",
      "      }\n",
      "    }\n",
      "  }\n",
      "}\n",
      "attr {\n",
      "  key: \"output_types\"\n",
      "  value {\n",
      "    list {\n",
      "      type: DT_INT64\n",
      "    }\n",
      "  }\n",
      "}\n",
      ". Consider either turning off auto-sharding or switching the auto_shard_policy to DATA to shard this dataset. You can do this by creating a new `tf.data.Options()` object then setting `options.experimental_distribute.auto_shard_policy = AutoShardPolicy.DATA` before applying the options object to the dataset via `dataset.with_options(options)`.\n"
     ]
    },
    {
     "name": "stdout",
     "output_type": "stream",
     "text": [
      "10000/10000 [==============================] - 70s 7ms/step - loss: 0.1360 - sparse_categorical_accuracy: 0.9583\n"
     ]
    }
   ],
   "source": [
    "with strategy.scope():\n",
    "    model.evaluate(x_test, y_test_labels, batch_size=1)"
   ]
  },
  {
   "cell_type": "code",
   "execution_count": 29,
   "id": "9c671608",
   "metadata": {},
   "outputs": [
    {
     "data": {
      "image/png": "[encoded data removed]",
      "text/plain": [
       "<Figure size 432x288 with 1 Axes>"
      ]
     },
     "metadata": {
      "needs_background": "light"
     },
     "output_type": "display_data"
    }
   ],
   "source": [
    "plt.plot(history.history[\"sparse_categorical_accuracy\"])\n",
    "plt.plot(history.history[\"val_sparse_categorical_accuracy\"])\n",
    "plt.legend([\"Training\", \"Validation\"])\n",
    "plt.show()"
   ]
  },
  {
   "cell_type": "markdown",
   "id": "c000586b",
   "metadata": {},
   "source": [
    "---\n",
    "## 1000-Element Point Clouds"
   ]
  },
  {
   "cell_type": "code",
   "execution_count": 8,
   "id": "b628a9fc",
   "metadata": {},
   "outputs": [],
   "source": [
    "# Point Clouds\n",
    "with np.load(\"./datasets/mnist_point_cloud_train_1000.npz\") as f:\n",
    "    x_train = f[list(f.keys())[0]]\n",
    "    \n",
    "with np.load(\"./datasets/mnist_point_cloud_test_1000.npz\") as f:\n",
    "    x_test = f[list(f.keys())[0]]\n",
    "\n",
    "# Labels\n",
    "(_, y_train_labels), (_, y_test_labels) = keras.datasets.mnist.load_data()\n",
    "\n",
    "# One-hot encoded labels\n",
    "y_train = np.zeros((y_train_labels.size, y_train_labels.max()+1))\n",
    "y_train[np.arange(y_train_labels.size), y_train_labels] = 1\n",
    "y_test = np.zeros((y_test_labels.size, y_test_labels.max()+1))\n",
    "y_test[np.arange(y_test_labels.size), y_test_labels] = 1\n",
    "\n",
    "_ = None # Free memory"
   ]
  },
  {
   "cell_type": "code",
   "execution_count": 9,
   "id": "bf6b736d",
   "metadata": {},
   "outputs": [
    {
     "data": {
      "text/plain": [
       "((60000, 1000, 2), (10000, 1000, 2))"
      ]
     },
     "execution_count": 9,
     "metadata": {},
     "output_type": "execute_result"
    }
   ],
   "source": [
    "x_train.shape, x_test.shape"
   ]
  },
  {
   "cell_type": "code",
   "execution_count": 10,
   "id": "d3ed2189",
   "metadata": {},
   "outputs": [
    {
     "data": {
      "text/plain": [
       "((60000, 10), (10000, 10))"
      ]
     },
     "execution_count": 10,
     "metadata": {},
     "output_type": "execute_result"
    }
   ],
   "source": [
    "y_train.shape, y_test.shape"
   ]
  },
  {
   "cell_type": "markdown",
   "id": "ad2554ba",
   "metadata": {},
   "source": [
    "### Model"
   ]
  },
  {
   "cell_type": "code",
   "execution_count": 11,
   "id": "da1d2a23",
   "metadata": {},
   "outputs": [
    {
     "name": "stdout",
     "output_type": "stream",
     "text": [
      "Model: \"Encoder\"\n",
      "_________________________________________________________________\n",
      "Layer (type)                 Output Shape              Param #   \n",
      "=================================================================\n",
      "input_1 (InputLayer)         [(None, None, 2)]         0         \n",
      "_________________________________________________________________\n",
      "dense (Dense)                (None, None, 64)          192       \n",
      "_________________________________________________________________\n",
      "induced_set_attention_block  (None, None, 64)          35328     \n",
      "_________________________________________________________________\n",
      "induced_set_attention_block_ (None, None, 64)          35328     \n",
      "=================================================================\n",
      "Total params: 70,848\n",
      "Trainable params: 70,848\n",
      "Non-trainable params: 0\n",
      "_________________________________________________________________\n",
      "Model: \"Decoder\"\n",
      "_________________________________________________________________\n",
      "Layer (type)                 Output Shape              Param #   \n",
      "=================================================================\n",
      "input_2 (InputLayer)         [(None, None, 64)]        0         \n",
      "_________________________________________________________________\n",
      "dropout (Dropout)            (None, None, 64)          0         \n",
      "_________________________________________________________________\n",
      "pooling_by_multi_head_attent (None, 1, 64)             16704     \n",
      "_________________________________________________________________\n",
      "dropout_1 (Dropout)          (None, 1, 64)             0         \n",
      "_________________________________________________________________\n",
      "dense_21 (Dense)             (None, 1, 10)             650       \n",
      "=================================================================\n",
      "Total params: 17,354\n",
      "Trainable params: 17,354\n",
      "Non-trainable params: 0\n",
      "_________________________________________________________________\n"
     ]
    }
   ],
   "source": [
    "with strategy.scope():\n",
    "    model = PointCloudSetTransformer()\n",
    "    model.compile(\n",
    "        optimizer=keras.optimizers.Adam(1e-3),\n",
    "        loss=keras.losses.SparseCategoricalCrossentropy(from_logits=True),\n",
    "        metrics=keras.metrics.SparseCategoricalAccuracy()\n",
    "    )"
   ]
  },
  {
   "cell_type": "code",
   "execution_count": 25,
   "id": "cc554dae",
   "metadata": {},
   "outputs": [
    {
     "name": "stderr",
     "output_type": "stream",
     "text": [
      "2021-10-11 13:10:01.537753: I tensorflow/stream_executor/platform/default/dso_loader.cc:53] Successfully opened dynamic library libcublas.so.11\n",
      "2021-10-11 13:10:01.748815: I tensorflow/stream_executor/platform/default/dso_loader.cc:53] Successfully opened dynamic library libcublasLt.so.11\n"
     ]
    },
    {
     "data": {
      "text/plain": [
       "<tf.Tensor: shape=(10,), dtype=float32, numpy=\n",
       "array([ 0.649069  , -1.5614321 ,  1.9313924 ,  1.334004  , -0.8865581 ,\n",
       "        1.083253  , -0.50958705, -0.33919162, -3.3516853 , -0.31087857],\n",
       "      dtype=float32)>"
      ]
     },
     "execution_count": 25,
     "metadata": {},
     "output_type": "execute_result"
    }
   ],
   "source": [
    "model(x_train[:1])"
   ]
  },
  {
   "cell_type": "markdown",
   "id": "52afac1b",
   "metadata": {},
   "source": [
    "### Training"
   ]
  },
  {
   "cell_type": "code",
   "execution_count": 26,
   "id": "d5979c63",
   "metadata": {},
   "outputs": [
    {
     "name": "stderr",
     "output_type": "stream",
     "text": [
      "2021-10-11 13:10:23.668417: W tensorflow/core/framework/cpu_allocator_impl.cc:80] Allocation of 384000000 exceeds 10% of free system memory.\n",
      "2021-10-11 13:10:23.825302: W tensorflow/core/framework/cpu_allocator_impl.cc:80] Allocation of 384000000 exceeds 10% of free system memory.\n",
      "2021-10-11 13:10:24.036395: W tensorflow/core/grappler/optimizers/data/auto_shard.cc:695] AUTO sharding policy will apply DATA sharding policy as it failed to apply FILE sharding policy because of the following reason: Did not find a shardable source, walked to a node which is not a dataset: name: \"FlatMapDataset/_9\"\n",
      "op: \"FlatMapDataset\"\n",
      "input: \"PrefetchDataset/_8\"\n",
      "attr {\n",
      "  key: \"Targuments\"\n",
      "  value {\n",
      "    list {\n",
      "    }\n",
      "  }\n",
      "}\n",
      "attr {\n",
      "  key: \"f\"\n",
      "  value {\n",
      "    func {\n",
      "      name: \"__inference_Dataset_flat_map_slice_batch_indices_3901\"\n",
      "    }\n",
      "  }\n",
      "}\n",
      "attr {\n",
      "  key: \"output_shapes\"\n",
      "  value {\n",
      "    list {\n",
      "      shape {\n",
      "        dim {\n",
      "          size: 32\n",
      "        }\n",
      "      }\n",
      "    }\n",
      "  }\n",
      "}\n",
      "attr {\n",
      "  key: \"output_types\"\n",
      "  value {\n",
      "    list {\n",
      "      type: DT_INT64\n",
      "    }\n",
      "  }\n",
      "}\n",
      ". Consider either turning off auto-sharding or switching the auto_shard_policy to DATA to shard this dataset. You can do this by creating a new `tf.data.Options()` object then setting `options.experimental_distribute.auto_shard_policy = AutoShardPolicy.DATA` before applying the options object to the dataset via `dataset.with_options(options)`.\n",
      "2021-10-11 13:10:24.051744: I tensorflow/compiler/mlir/mlir_graph_optimization_pass.cc:176] None of the MLIR Optimization Passes are enabled (registered 2)\n",
      "2021-10-11 13:10:24.071306: I tensorflow/core/platform/profile_utils/cpu_utils.cc:114] CPU Frequency: 3393110000 Hz\n"
     ]
    },
    {
     "name": "stdout",
     "output_type": "stream",
     "text": [
      "Epoch 1/20\n",
      "1500/1500 [==============================] - ETA: 0s - loss: 2.0378 - sparse_categorical_accuracy: 0.2487"
     ]
    },
    {
     "name": "stderr",
     "output_type": "stream",
     "text": [
      "2021-10-11 13:11:47.740000: W tensorflow/core/grappler/optimizers/data/auto_shard.cc:695] AUTO sharding policy will apply DATA sharding policy as it failed to apply FILE sharding policy because of the following reason: Did not find a shardable source, walked to a node which is not a dataset: name: \"FlatMapDataset/_9\"\n",
      "op: \"FlatMapDataset\"\n",
      "input: \"PrefetchDataset/_8\"\n",
      "attr {\n",
      "  key: \"Targuments\"\n",
      "  value {\n",
      "    list {\n",
      "    }\n",
      "  }\n",
      "}\n",
      "attr {\n",
      "  key: \"f\"\n",
      "  value {\n",
      "    func {\n",
      "      name: \"__inference_Dataset_flat_map_slice_batch_indices_11102\"\n",
      "    }\n",
      "  }\n",
      "}\n",
      "attr {\n",
      "  key: \"output_shapes\"\n",
      "  value {\n",
      "    list {\n",
      "      shape {\n",
      "        dim {\n",
      "          size: 32\n",
      "        }\n",
      "      }\n",
      "    }\n",
      "  }\n",
      "}\n",
      "attr {\n",
      "  key: \"output_types\"\n",
      "  value {\n",
      "    list {\n",
      "      type: DT_INT64\n",
      "    }\n",
      "  }\n",
      "}\n",
      ". Consider either turning off auto-sharding or switching the auto_shard_policy to DATA to shard this dataset. You can do this by creating a new `tf.data.Options()` object then setting `options.experimental_distribute.auto_shard_policy = AutoShardPolicy.DATA` before applying the options object to the dataset via `dataset.with_options(options)`.\n"
     ]
    },
    {
     "name": "stdout",
     "output_type": "stream",
     "text": [
      "1500/1500 [==============================] - 90s 59ms/step - loss: 2.0378 - sparse_categorical_accuracy: 0.2487 - val_loss: 1.2632 - val_sparse_categorical_accuracy: 0.5710\n",
      "Epoch 2/20\n",
      "1500/1500 [==============================] - 87s 58ms/step - loss: 0.8262 - sparse_categorical_accuracy: 0.7245 - val_loss: 0.6900 - val_sparse_categorical_accuracy: 0.7671\n",
      "Epoch 3/20\n",
      "1500/1500 [==============================] - 88s 59ms/step - loss: 0.4832 - sparse_categorical_accuracy: 0.8489 - val_loss: 0.3782 - val_sparse_categorical_accuracy: 0.8792\n",
      "Epoch 4/20\n",
      "1500/1500 [==============================] - 86s 57ms/step - loss: 0.3466 - sparse_categorical_accuracy: 0.8947 - val_loss: 0.3095 - val_sparse_categorical_accuracy: 0.8954\n",
      "Epoch 5/20\n",
      "1500/1500 [==============================] - 88s 59ms/step - loss: 0.2760 - sparse_categorical_accuracy: 0.9169 - val_loss: 0.2348 - val_sparse_categorical_accuracy: 0.9314\n",
      "Epoch 6/20\n",
      "1500/1500 [==============================] - 87s 58ms/step - loss: 0.2342 - sparse_categorical_accuracy: 0.9289 - val_loss: 0.1756 - val_sparse_categorical_accuracy: 0.9452\n",
      "Epoch 7/20\n",
      "1500/1500 [==============================] - 86s 58ms/step - loss: 0.2207 - sparse_categorical_accuracy: 0.9345 - val_loss: 0.1690 - val_sparse_categorical_accuracy: 0.9478\n",
      "Epoch 8/20\n",
      "1500/1500 [==============================] - 88s 59ms/step - loss: 0.1941 - sparse_categorical_accuracy: 0.9423 - val_loss: 0.1567 - val_sparse_categorical_accuracy: 0.9505\n",
      "Epoch 9/20\n",
      "1500/1500 [==============================] - 87s 58ms/step - loss: 0.1858 - sparse_categorical_accuracy: 0.9445 - val_loss: 0.1258 - val_sparse_categorical_accuracy: 0.9610\n",
      "Epoch 10/20\n",
      "1500/1500 [==============================] - 86s 58ms/step - loss: 0.1702 - sparse_categorical_accuracy: 0.9498 - val_loss: 0.1351 - val_sparse_categorical_accuracy: 0.9583\n",
      "Epoch 11/20\n",
      "1500/1500 [==============================] - 88s 59ms/step - loss: 0.1620 - sparse_categorical_accuracy: 0.9516 - val_loss: 0.1313 - val_sparse_categorical_accuracy: 0.9582\n",
      "Epoch 12/20\n",
      "1500/1500 [==============================] - 87s 58ms/step - loss: 0.1563 - sparse_categorical_accuracy: 0.9535 - val_loss: 0.1477 - val_sparse_categorical_accuracy: 0.9536\n",
      "Epoch 13/20\n",
      "1500/1500 [==============================] - 86s 57ms/step - loss: 0.1489 - sparse_categorical_accuracy: 0.9561 - val_loss: 0.1165 - val_sparse_categorical_accuracy: 0.9641\n",
      "Epoch 14/20\n",
      "1500/1500 [==============================] - 86s 57ms/step - loss: 0.1436 - sparse_categorical_accuracy: 0.9569 - val_loss: 0.1446 - val_sparse_categorical_accuracy: 0.9545\n",
      "Epoch 15/20\n",
      "1500/1500 [==============================] - 86s 57ms/step - loss: 0.1434 - sparse_categorical_accuracy: 0.9571 - val_loss: 0.1163 - val_sparse_categorical_accuracy: 0.9628\n",
      "Epoch 16/20\n",
      "1500/1500 [==============================] - 89s 59ms/step - loss: 0.1340 - sparse_categorical_accuracy: 0.9597 - val_loss: 0.1458 - val_sparse_categorical_accuracy: 0.9542\n",
      "Epoch 17/20\n",
      "1500/1500 [==============================] - 89s 59ms/step - loss: 0.1337 - sparse_categorical_accuracy: 0.9607 - val_loss: 0.1490 - val_sparse_categorical_accuracy: 0.9539\n",
      "Epoch 18/20\n",
      "1500/1500 [==============================] - 86s 57ms/step - loss: 0.1286 - sparse_categorical_accuracy: 0.9626 - val_loss: 0.1077 - val_sparse_categorical_accuracy: 0.9658\n",
      "Epoch 19/20\n",
      "1500/1500 [==============================] - 84s 56ms/step - loss: 0.1244 - sparse_categorical_accuracy: 0.9620 - val_loss: 0.1159 - val_sparse_categorical_accuracy: 0.9666\n",
      "Epoch 20/20\n",
      "1500/1500 [==============================] - 84s 56ms/step - loss: 0.1236 - sparse_categorical_accuracy: 0.9638 - val_loss: 0.1175 - val_sparse_categorical_accuracy: 0.9648\n"
     ]
    }
   ],
   "source": [
    "with strategy.scope():\n",
    "    history = model.fit(x_train, y_train_labels, validation_split=0.2, epochs=20)"
   ]
  },
  {
   "cell_type": "code",
   "execution_count": 27,
   "id": "e737fc6b",
   "metadata": {},
   "outputs": [
    {
     "name": "stderr",
     "output_type": "stream",
     "text": [
      "2021-10-11 13:43:36.582444: W tensorflow/core/grappler/optimizers/data/auto_shard.cc:695] AUTO sharding policy will apply DATA sharding policy as it failed to apply FILE sharding policy because of the following reason: Did not find a shardable source, walked to a node which is not a dataset: name: \"FlatMapDataset/_9\"\n",
      "op: \"FlatMapDataset\"\n",
      "input: \"PrefetchDataset/_8\"\n",
      "attr {\n",
      "  key: \"Targuments\"\n",
      "  value {\n",
      "    list {\n",
      "    }\n",
      "  }\n",
      "}\n",
      "attr {\n",
      "  key: \"f\"\n",
      "  value {\n",
      "    func {\n",
      "      name: \"__inference_Dataset_flat_map_slice_batch_indices_84945\"\n",
      "    }\n",
      "  }\n",
      "}\n",
      "attr {\n",
      "  key: \"output_shapes\"\n",
      "  value {\n",
      "    list {\n",
      "      shape {\n",
      "        dim {\n",
      "          size: 1\n",
      "        }\n",
      "      }\n",
      "    }\n",
      "  }\n",
      "}\n",
      "attr {\n",
      "  key: \"output_types\"\n",
      "  value {\n",
      "    list {\n",
      "      type: DT_INT64\n",
      "    }\n",
      "  }\n",
      "}\n",
      ". Consider either turning off auto-sharding or switching the auto_shard_policy to DATA to shard this dataset. You can do this by creating a new `tf.data.Options()` object then setting `options.experimental_distribute.auto_shard_policy = AutoShardPolicy.DATA` before applying the options object to the dataset via `dataset.with_options(options)`.\n"
     ]
    },
    {
     "name": "stdout",
     "output_type": "stream",
     "text": [
      "10000/10000 [==============================] - 45s 4ms/step - loss: 0.1178 - sparse_categorical_accuracy: 0.9662\n"
     ]
    }
   ],
   "source": [
    "with strategy.scope():\n",
    "    model.evaluate(x_test, y_test_labels, batch_size=1)"
   ]
  },
  {
   "cell_type": "code",
   "execution_count": 28,
   "id": "36522eae",
   "metadata": {},
   "outputs": [
    {
     "data": {
      "image/png": "[encoded data removed]",
      "text/plain": [
       "<Figure size 432x288 with 1 Axes>"
      ]
     },
     "metadata": {
      "needs_background": "light"
     },
     "output_type": "display_data"
    }
   ],
   "source": [
    "plt.plot(history.history[\"sparse_categorical_accuracy\"])\n",
    "plt.plot(history.history[\"val_sparse_categorical_accuracy\"])\n",
    "plt.legend([\"Training\", \"Validation\"])\n",
    "plt.show()"
   ]
  },
  {
   "cell_type": "code",
   "execution_count": null,
   "id": "aee45421",
   "metadata": {},
   "outputs": [],
   "source": []
  }
 ],
 "metadata": {
  "kernelspec": {
   "display_name": "Python 3.9 (Tensorflow 2.5)",
   "language": "python",
   "name": "tf2.5"
  },
  "language_info": {
   "codemirror_mode": {
    "name": "ipython",
    "version": 3
   },
   "file_extension": ".py",
   "mimetype": "text/x-python",
   "name": "python",
   "nbconvert_exporter": "python",
   "pygments_lexer": "ipython3",
   "version": "3.9.6"
  }
 },
 "nbformat": 4,
 "nbformat_minor": 5
}
