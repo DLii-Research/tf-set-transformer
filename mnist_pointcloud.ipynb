{
 "cells": [
  {
   "cell_type": "markdown",
   "id": "2073eb07-b5af-4bce-b201-b251cf1bb027",
   "metadata": {
    "tags": []
   },
   "source": [
    "# MNIST Point Cloud Classification\n",
    "\n",
    "This task attempts to classify a set of 2D-points in the shape of a number. Using the MNIST dataset, point clouds are generated with a random number of points.\n",
    "\n",
    "Note: the datasets are not included in this repository. Instead, they need to be generated using the [MNIST Point Cloud](https://github.com/DLii-Research/mnist-pointcloud) library."
   ]
  },
  {
   "cell_type": "code",
   "execution_count": 4,
   "id": "adf1fc01-2b3e-4e3c-a0f3-5d29a52c1eeb",
   "metadata": {},
   "outputs": [],
   "source": [
    "import matplotlib.pyplot as plt\n",
    "import numpy as np\n",
    "import tensorflow as tf\n",
    "import tensorflow.keras as keras\n",
    "\n",
    "import settransformer"
   ]
  },
  {
   "cell_type": "markdown",
   "id": "233dff9d-50db-48d2-99e1-bf36ca371949",
   "metadata": {},
   "source": [
    "## Strategy\n",
    "\n",
    "Grab the appropriate compute device(s)."
   ]
  },
  {
   "cell_type": "code",
   "execution_count": 5,
   "id": "53071878-4e36-4306-8e26-a7227abcfc53",
   "metadata": {},
   "outputs": [],
   "source": [
    "DEVICE = \"gpu:0\"\n",
    "MULTI_GPU = False"
   ]
  },
  {
   "cell_type": "code",
   "execution_count": 6,
   "id": "69a41183-e9ab-4437-946c-7ddd2c869456",
   "metadata": {},
   "outputs": [],
   "source": [
    "if MULTI_GPU:\n",
    "    strategy = tf.distribute.MirroredStrategy()\n",
    "else:\n",
    "    strategy = tf.distribute.OneDeviceStrategy(DEVICE)"
   ]
  },
  {
   "cell_type": "code",
   "execution_count": 11,
   "id": "c0922c7f-8d58-46bd-9025-2fa7a0b09c9e",
   "metadata": {
    "tags": []
   },
   "outputs": [],
   "source": [
    "class MaxRegressionSetTransformer(keras.models.Model):\n",
    "#     def __init__(self, input_shape, num_outputs, num_induce, embed_dim, num_heads, ff_dim):\n",
    "    def __init__(self):\n",
    "        super(MaxRegressionSetTransformer, self).__init__()\n",
    "        \n",
    "        # Encoder\n",
    "        inp = keras.layers.Input((None, 1))\n",
    "        out = keras.layers.Dense(64)(inp)\n",
    "        out = SetAttentionBlock(64, 64, 4)(out)\n",
    "        out = SetAttentionBlock(64, 64, 4)(out)\n",
    "        self.encoder = keras.models.Model(inp, out)\n",
    "        \n",
    "        # Decoder\n",
    "        inp = keras.layers.Input((None, 64))\n",
    "        out = PoolingByMultiheadAttention(1, 64, 1)(inp)\n",
    "        out = keras.layers.Dense(1)(out)\n",
    "        self.decoder = keras.models.Model(inp, out)\n",
    "        \n",
    "    def call(self, x):\n",
    "        return tf.squeeze(self.decoder(self.encoder(x)))"
   ]
  },
  {
   "cell_type": "code",
   "execution_count": 12,
   "id": "2053408c-449c-48a8-8aa4-5a3c919014bb",
   "metadata": {},
   "outputs": [],
   "source": [
    "def gen_data(batch_size, length=5, test=False):\n",
    "    x = np.random.randint(1, 100, (batch_size, length))\n",
    "    y = np.max(x, axis=1)\n",
    "    x, y = np.expand_dims(x, axis=2), np.expand_dims(y, axis=1)\n",
    "    return x, y"
   ]
  },
  {
   "cell_type": "code",
   "execution_count": 13,
   "id": "3bf8a182-fcd0-4de4-aac4-a066d6715839",
   "metadata": {},
   "outputs": [],
   "source": [
    "with strategy.scope():\n",
    "    model = MaxRegressionSetTransformer()\n",
    "    model.compile(loss=keras.losses.MeanAbsoluteError())"
   ]
  },
  {
   "cell_type": "code",
   "execution_count": 14,
   "id": "112c1463-aa8c-4eac-9470-426652eefec2",
   "metadata": {},
   "outputs": [],
   "source": [
    "x, y = gen_data(batch_size=2 ** 10, length=5)"
   ]
  },
  {
   "cell_type": "code",
   "execution_count": 17,
   "id": "0bd66895-1008-410d-a48c-e9b2cf670c77",
   "metadata": {
    "tags": []
   },
   "outputs": [],
   "source": [
    "with strategy.scope():\n",
    "    history = model.fit(x, y, epochs=500, verbose=0)"
   ]
  },
  {
   "cell_type": "code",
   "execution_count": 21,
   "id": "00b9290f-63e1-4875-9115-9dcf19fff80e",
   "metadata": {},
   "outputs": [
    {
     "data": {
      "text/plain": [
       "[<matplotlib.lines.Line2D at 0x7f7bb03964c0>]"
      ]
     },
     "execution_count": 21,
     "metadata": {},
     "output_type": "execute_result"
    },
    {
     "data": {
      "image/png": "[encoded data removed]",
      "text/plain": [
       "<Figure size 432x288 with 1 Axes>"
      ]
     },
     "metadata": {
      "needs_background": "light"
     },
     "output_type": "display_data"
    }
   ],
   "source": [
    "plt.plot(history.history[\"loss\"][::10])"
   ]
  },
  {
   "cell_type": "markdown",
   "id": "19f9b9be-cbfd-434a-8757-7dd2857eef41",
   "metadata": {
    "tags": []
   },
   "source": [
    "---\n",
    "## 100-Element Point Clouds"
   ]
  },
  {
   "cell_type": "code",
   "execution_count": 22,
   "id": "a63ca837-938f-4366-bec4-33804ffd4165",
   "metadata": {},
   "outputs": [],
   "source": [
    "# Point Clouds\n",
    "with np.load(\"./datasets/mnist_point_cloud_train_100.npz\") as f:\n",
    "    x_train = f[list(f.keys())[0]]\n",
    "    \n",
    "with np.load(\"../datasets/mnist_point_cloud_test_100.npz\") as f:\n",
    "    x_test = f[list(f.keys())[0]]\n",
    "\n",
    "# Labels\n",
    "(_, y_train_labels), (_, y_test_labels) = keras.datasets.mnist.load_data()\n",
    "\n",
    "# One-hot encoded labels\n",
    "y_train = np.zeros((y_train_labels.size, y_train_labels.max()+1))\n",
    "y_train[np.arange(y_train_labels.size), y_train_labels] = 1\n",
    "y_test = np.zeros((y_test_labels.size, y_test_labels.max()+1))\n",
    "y_test[np.arange(y_test_labels.size), y_test_labels] = 1\n",
    "\n",
    "_ = None # Free memory"
   ]
  },
  {
   "cell_type": "code",
   "execution_count": 23,
   "id": "2cec4a99-e4f0-428f-8b1d-3dc2d8f27e51",
   "metadata": {},
   "outputs": [
    {
     "data": {
      "text/plain": [
       "((60000, 100, 2), (10000, 100, 2))"
      ]
     },
     "execution_count": 23,
     "metadata": {},
     "output_type": "execute_result"
    }
   ],
   "source": [
    "x_train.shape, x_test.shape"
   ]
  },
  {
   "cell_type": "code",
   "execution_count": 24,
   "id": "0ceb7d98-bfc3-4a66-9c09-7097fccb22c1",
   "metadata": {},
   "outputs": [
    {
     "data": {
      "text/plain": [
       "((60000, 10), (10000, 10))"
      ]
     },
     "execution_count": 24,
     "metadata": {},
     "output_type": "execute_result"
    }
   ],
   "source": [
    "y_train.shape, y_test.shape"
   ]
  },
  {
   "cell_type": "markdown",
   "id": "1f6920a5-fdda-4d10-bd0a-a075cb078a2c",
   "metadata": {},
   "source": [
    "### Model Architecture"
   ]
  },
  {
   "cell_type": "code",
   "execution_count": 27,
   "id": "34053e98-339d-4962-be1b-15f15f97d720",
   "metadata": {},
   "outputs": [],
   "source": [
    "class PointCloudSetTransformer(keras.models.Model):\n",
    "    def __init__(self):\n",
    "        super(PointCloudSetTransformer, self).__init__()\n",
    "        embed_dim = 64\n",
    "        num_induce = 32\n",
    "        num_heads = 4\n",
    "        \n",
    "        # Encoder\n",
    "        inp = keras.layers.Input((None, 2))\n",
    "        out = keras.layers.Dense(embed_dim)(inp)\n",
    "        out = settransformer.InducedSetAttentionBlock(embed_dim, num_heads, num_induce)(out)\n",
    "        out = settransformer.InducedSetAttentionBlock(embed_dim, num_heads, num_induce)(out)\n",
    "        self.encoder = keras.models.Model(inp, out)\n",
    "        \n",
    "        # Decoder\n",
    "        inp = keras.layers.Input((None, embed_dim))\n",
    "        out = keras.layers.Dropout(0.5)(inp)\n",
    "        out = settransformer.PoolingByMultiHeadAttention(1, embed_dim, 1)(out)\n",
    "        out = keras.layers.Dropout(0.5)(out)\n",
    "        out = keras.layers.Dense(10)(out)\n",
    "        self.decoder = keras.models.Model(inp, out)\n",
    "        \n",
    "    def call(self, x):\n",
    "        return tf.squeeze(self.decoder(self.encoder(x)))"
   ]
  },
  {
   "cell_type": "code",
   "execution_count": 30,
   "id": "7e64b060-4fbb-4140-97f7-d3a391be2326",
   "metadata": {},
   "outputs": [],
   "source": [
    "with strategy.scope():\n",
    "    model = PointCloudSetTransformer()\n",
    "    model.compile(\n",
    "        loss=keras.losses.SparseCategoricalCrossentropy(from_logits=True),\n",
    "        metrics=keras.metrics.SparseCategoricalAccuracy()\n",
    "    )"
   ]
  },
  {
   "cell_type": "code",
   "execution_count": 31,
   "id": "819498e0-7764-4ab9-8c94-2e07b10cac36",
   "metadata": {},
   "outputs": [
    {
     "data": {
      "text/plain": [
       "<tf.Tensor: shape=(10,), dtype=float32, numpy=\n",
       "array([ 0.8533765 ,  0.9214091 ,  0.9969456 , -0.37074822, -1.6455694 ,\n",
       "       -0.97620887, -1.0441594 , -1.5369172 ,  0.28667808, -1.3333459 ],\n",
       "      dtype=float32)>"
      ]
     },
     "execution_count": 31,
     "metadata": {},
     "output_type": "execute_result"
    }
   ],
   "source": [
    "model(x_train[:1])"
   ]
  },
  {
   "cell_type": "markdown",
   "id": "dc6fb3c7-275d-41b5-960c-af1abf56a363",
   "metadata": {},
   "source": [
    "### Training"
   ]
  },
  {
   "cell_type": "code",
   "execution_count": 32,
   "id": "2e8ef470-826a-4490-b7ef-626939c476a1",
   "metadata": {},
   "outputs": [
    {
     "name": "stdout",
     "output_type": "stream",
     "text": [
      "Epoch 1/20\n",
      "1500/1500 [==============================] - 22s 13ms/step - loss: 1.5898 - sparse_categorical_accuracy: 0.4312 - val_loss: 0.9435 - val_sparse_categorical_accuracy: 0.6736\n",
      "Epoch 2/20\n",
      "1500/1500 [==============================] - 20s 13ms/step - loss: 0.9856 - sparse_categorical_accuracy: 0.6567 - val_loss: 0.7888 - val_sparse_categorical_accuracy: 0.7318\n",
      "Epoch 3/20\n",
      "1500/1500 [==============================] - 20s 13ms/step - loss: 0.8332 - sparse_categorical_accuracy: 0.7204 - val_loss: 0.7025 - val_sparse_categorical_accuracy: 0.7560\n",
      "Epoch 4/20\n",
      "1500/1500 [==============================] - 20s 13ms/step - loss: 0.7271 - sparse_categorical_accuracy: 0.7600 - val_loss: 0.5902 - val_sparse_categorical_accuracy: 0.7988\n",
      "Epoch 5/20\n",
      "1500/1500 [==============================] - 20s 13ms/step - loss: 0.6626 - sparse_categorical_accuracy: 0.7814 - val_loss: 0.6153 - val_sparse_categorical_accuracy: 0.7881\n",
      "Epoch 6/20\n",
      "1500/1500 [==============================] - 20s 13ms/step - loss: 0.6170 - sparse_categorical_accuracy: 0.7974 - val_loss: 0.5070 - val_sparse_categorical_accuracy: 0.8294\n",
      "Epoch 7/20\n",
      "1500/1500 [==============================] - 19s 13ms/step - loss: 0.5841 - sparse_categorical_accuracy: 0.8101 - val_loss: 0.5177 - val_sparse_categorical_accuracy: 0.8272\n",
      "Epoch 8/20\n",
      "1500/1500 [==============================] - 20s 13ms/step - loss: 0.5513 - sparse_categorical_accuracy: 0.8217 - val_loss: 0.4546 - val_sparse_categorical_accuracy: 0.8490\n",
      "Epoch 9/20\n",
      "1500/1500 [==============================] - 20s 13ms/step - loss: 0.5193 - sparse_categorical_accuracy: 0.8339 - val_loss: 0.4662 - val_sparse_categorical_accuracy: 0.8398\n",
      "Epoch 10/20\n",
      "1500/1500 [==============================] - 19s 13ms/step - loss: 0.4800 - sparse_categorical_accuracy: 0.8456 - val_loss: 0.3683 - val_sparse_categorical_accuracy: 0.8766\n",
      "Epoch 11/20\n",
      "1500/1500 [==============================] - 20s 13ms/step - loss: 0.4447 - sparse_categorical_accuracy: 0.8610 - val_loss: 0.3433 - val_sparse_categorical_accuracy: 0.8887\n",
      "Epoch 12/20\n",
      "1500/1500 [==============================] - 20s 13ms/step - loss: 0.4072 - sparse_categorical_accuracy: 0.8739 - val_loss: 0.3128 - val_sparse_categorical_accuracy: 0.8955\n",
      "Epoch 13/20\n",
      "1500/1500 [==============================] - 20s 13ms/step - loss: 0.3746 - sparse_categorical_accuracy: 0.8856 - val_loss: 0.3753 - val_sparse_categorical_accuracy: 0.8800\n",
      "Epoch 14/20\n",
      "1500/1500 [==============================] - 20s 13ms/step - loss: 0.3506 - sparse_categorical_accuracy: 0.8936 - val_loss: 0.3206 - val_sparse_categorical_accuracy: 0.8964\n",
      "Epoch 15/20\n",
      "1500/1500 [==============================] - 20s 13ms/step - loss: 0.3384 - sparse_categorical_accuracy: 0.8972 - val_loss: 0.2530 - val_sparse_categorical_accuracy: 0.9195\n",
      "Epoch 16/20\n",
      "1500/1500 [==============================] - 20s 13ms/step - loss: 0.3156 - sparse_categorical_accuracy: 0.9047 - val_loss: 0.2936 - val_sparse_categorical_accuracy: 0.9075\n",
      "Epoch 17/20\n",
      "1500/1500 [==============================] - 20s 13ms/step - loss: 0.3056 - sparse_categorical_accuracy: 0.9085 - val_loss: 0.2310 - val_sparse_categorical_accuracy: 0.9249\n",
      "Epoch 18/20\n",
      "1500/1500 [==============================] - 20s 13ms/step - loss: 0.2982 - sparse_categorical_accuracy: 0.9101 - val_loss: 0.2607 - val_sparse_categorical_accuracy: 0.9168\n",
      "Epoch 19/20\n",
      "1500/1500 [==============================] - 20s 13ms/step - loss: 0.2848 - sparse_categorical_accuracy: 0.9145 - val_loss: 0.2498 - val_sparse_categorical_accuracy: 0.9188\n",
      "Epoch 20/20\n",
      "1500/1500 [==============================] - 20s 13ms/step - loss: 0.2752 - sparse_categorical_accuracy: 0.9165 - val_loss: 0.1969 - val_sparse_categorical_accuracy: 0.9367\n"
     ]
    }
   ],
   "source": [
    "with strategy.scope():\n",
    "    history = model.fit(x_train, y_train_labels, validation_split=0.2, epochs=20)"
   ]
  },
  {
   "cell_type": "code",
   "execution_count": 33,
   "id": "599b7f4a-e3ae-4a93-8b99-8f6da6455190",
   "metadata": {},
   "outputs": [
    {
     "name": "stdout",
     "output_type": "stream",
     "text": [
      "10000/10000 [==============================] - 39s 4ms/step - loss: 0.1915 - sparse_categorical_accuracy: 0.9380\n"
     ]
    },
    {
     "data": {
      "text/plain": [
       "[0.19147099554538727, 0.9380000233650208]"
      ]
     },
     "execution_count": 33,
     "metadata": {},
     "output_type": "execute_result"
    }
   ],
   "source": [
    "with strategy.scope():\n",
    "    model.evaluate(x_test, y_test_labels, batch_size=1)"
   ]
  },
  {
   "cell_type": "code",
   "execution_count": 34,
   "id": "24cd446d-6c73-4314-ae3c-93062cdacdff",
   "metadata": {},
   "outputs": [
    {
     "data": {
      "image/png": "[encoded data removed]",
      "text/plain": [
       "<Figure size 432x288 with 1 Axes>"
      ]
     },
     "metadata": {
      "needs_background": "light"
     },
     "output_type": "display_data"
    }
   ],
   "source": [
    "plt.plot(history.history[\"sparse_categorical_accuracy\"])\n",
    "plt.plot(history.history[\"val_sparse_categorical_accuracy\"])\n",
    "plt.legend([\"Training\", \"Validation\"])\n",
    "plt.show()"
   ]
  },
  {
   "cell_type": "markdown",
   "id": "0f2ac59f-8420-4b9b-815b-c3f9e0958932",
   "metadata": {},
   "source": [
    "---\n",
    "## 1000-Element Point Clouds"
   ]
  },
  {
   "cell_type": "code",
   "execution_count": 11,
   "id": "5976d10e-d81b-4138-960f-27cf54d7ae9d",
   "metadata": {},
   "outputs": [],
   "source": [
    "# Point Clouds\n",
    "with np.load(\"./datasets/mnist_point_cloud_train_1000.npz\") as f:\n",
    "    x_train = f[list(f.keys())[0]]\n",
    "    \n",
    "with np.load(\"./datasets/mnist_point_cloud_test_1000.npz\") as f:\n",
    "    x_test = f[list(f.keys())[0]]\n",
    "\n",
    "# Labels\n",
    "(_, y_train_labels), (_, y_test_labels) = keras.datasets.mnist.load_data()\n",
    "\n",
    "# One-hot encoded labels\n",
    "y_train = np.zeros((y_train_labels.size, y_train_labels.max()+1))\n",
    "y_train[np.arange(y_train_labels.size), y_train_labels] = 1\n",
    "y_test = np.zeros((y_test_labels.size, y_test_labels.max()+1))\n",
    "y_test[np.arange(y_test_labels.size), y_test_labels] = 1\n",
    "\n",
    "_ = None # Free memory"
   ]
  },
  {
   "cell_type": "code",
   "execution_count": 12,
   "id": "6f68cb7c-5ec1-416a-8b08-750aa924f708",
   "metadata": {},
   "outputs": [
    {
     "data": {
      "text/plain": [
       "((60000, 1000, 2), (10000, 1000, 2))"
      ]
     },
     "execution_count": 12,
     "metadata": {},
     "output_type": "execute_result"
    }
   ],
   "source": [
    "x_train.shape, x_test.shape"
   ]
  },
  {
   "cell_type": "code",
   "execution_count": 13,
   "id": "e113d54e-3ef7-4417-99fa-61ab8b2c91b2",
   "metadata": {},
   "outputs": [
    {
     "data": {
      "text/plain": [
       "((60000, 10), (10000, 10))"
      ]
     },
     "execution_count": 13,
     "metadata": {},
     "output_type": "execute_result"
    }
   ],
   "source": [
    "y_train.shape, y_test.shape"
   ]
  },
  {
   "cell_type": "markdown",
   "id": "08573c4c-2855-4a20-904a-b66517983d49",
   "metadata": {},
   "source": [
    "### Architecture"
   ]
  },
  {
   "cell_type": "code",
   "execution_count": 26,
   "id": "50cd85bb-727d-42de-9be5-681dc71c61dc",
   "metadata": {},
   "outputs": [],
   "source": [
    "class PointCloudSetTransformer(keras.models.Model):\n",
    "    def __init__(self):\n",
    "        super(PointCloudSetTransformer, self).__init__()\n",
    "        embed_dim = 64\n",
    "        num_induce = 32\n",
    "        num_heads = 4\n",
    "        \n",
    "        # Encoder\n",
    "        inp = keras.layers.Input((None, 2))\n",
    "        out = keras.layers.Dense(embed_dim)(inp)\n",
    "        out = InducedSetAttentionBlock(embed_dim, num_heads, num_induce)(out)\n",
    "        out = InducedSetAttentionBlock(embed_dim, num_heads, num_induce)(out)\n",
    "        self.encoder = keras.models.Model(inp, out)\n",
    "        \n",
    "        # Decoder\n",
    "        inp = keras.layers.Input((None, embed_dim))\n",
    "        out = keras.layers.Dropout(0.5)(inp)\n",
    "        out = PoolingByMultiHeadAttention(1, embed_dim, 1)(out)\n",
    "        out = keras.layers.Dropout(0.5)(out)\n",
    "        out = keras.layers.Dense(10)(out)\n",
    "        self.decoder = keras.models.Model(inp, out)\n",
    "        \n",
    "    def call(self, x):\n",
    "        return tf.squeeze(self.decoder(self.encoder(x)))"
   ]
  },
  {
   "cell_type": "code",
   "execution_count": 27,
   "id": "2afbeff3-6447-4799-9396-616d4abe24d6",
   "metadata": {},
   "outputs": [],
   "source": [
    "with strategy.scope():\n",
    "    model = PointCloudSetTransformer()\n",
    "    model.compile(\n",
    "        loss=keras.losses.SparseCategoricalCrossentropy(from_logits=True),\n",
    "        metrics=keras.metrics.SparseCategoricalAccuracy()\n",
    "    )"
   ]
  },
  {
   "cell_type": "code",
   "execution_count": 28,
   "id": "16741ff1-e27f-460e-b3a7-070d88ecc531",
   "metadata": {},
   "outputs": [
    {
     "name": "stdout",
     "output_type": "stream",
     "text": [
      "Model: \"model_4\"\n",
      "_________________________________________________________________\n",
      "Layer (type)                 Output Shape              Param #   \n",
      "=================================================================\n",
      "input_5 (InputLayer)         [(None, None, 2)]         0         \n",
      "_________________________________________________________________\n",
      "dense_12 (Dense)             (None, None, 64)          192       \n",
      "_________________________________________________________________\n",
      "induced_set_attention_block_ (None, None, 64)          143616    \n",
      "_________________________________________________________________\n",
      "induced_set_attention_block_ (None, None, 64)          143616    \n",
      "=================================================================\n",
      "Total params: 287,424\n",
      "Trainable params: 287,424\n",
      "Non-trainable params: 0\n",
      "_________________________________________________________________\n"
     ]
    }
   ],
   "source": [
    "model.encoder.summary()"
   ]
  },
  {
   "cell_type": "code",
   "execution_count": 29,
   "id": "e12c784a-2fd0-4ff6-b1c2-1f3653585d2e",
   "metadata": {},
   "outputs": [
    {
     "name": "stdout",
     "output_type": "stream",
     "text": [
      "Model: \"model_5\"\n",
      "_________________________________________________________________\n",
      "Layer (type)                 Output Shape              Param #   \n",
      "=================================================================\n",
      "input_6 (InputLayer)         [(None, None, 64)]        0         \n",
      "_________________________________________________________________\n",
      "dropout_2 (Dropout)          (None, None, 64)          0         \n",
      "_________________________________________________________________\n",
      "pooling_by_multihead_attenti (None, 1, 64)             21120     \n",
      "_________________________________________________________________\n",
      "dropout_3 (Dropout)          (None, 1, 64)             0         \n",
      "_________________________________________________________________\n",
      "dense_18 (Dense)             (None, 1, 10)             650       \n",
      "=================================================================\n",
      "Total params: 21,770\n",
      "Trainable params: 21,770\n",
      "Non-trainable params: 0\n",
      "_________________________________________________________________\n"
     ]
    }
   ],
   "source": [
    "model.decoder.summary()"
   ]
  },
  {
   "cell_type": "code",
   "execution_count": 30,
   "id": "ee748655-9870-4bda-ad36-01675d0b59ef",
   "metadata": {},
   "outputs": [
    {
     "data": {
      "text/plain": [
       "<tf.Tensor: shape=(10,), dtype=float32, numpy=\n",
       "array([1.4294261 , 0.7374056 , 0.9700136 , 3.4043715 , 0.24263896,\n",
       "       0.91094553, 1.8755345 , 0.7557997 , 0.42712724, 0.9359895 ],\n",
       "      dtype=float32)>"
      ]
     },
     "execution_count": 30,
     "metadata": {},
     "output_type": "execute_result"
    }
   ],
   "source": [
    "model(x_train[:1])"
   ]
  },
  {
   "cell_type": "markdown",
   "id": "44c39ed9-6f63-4dc8-86e2-576ea784e108",
   "metadata": {},
   "source": [
    "### Training"
   ]
  },
  {
   "cell_type": "code",
   "execution_count": 31,
   "id": "0d723925-4085-4cb6-8df5-fd6bbcbf99e9",
   "metadata": {},
   "outputs": [
    {
     "name": "stdout",
     "output_type": "stream",
     "text": [
      "Epoch 1/20\n",
      "1500/1500 [==============================] - 29s 18ms/step - loss: 1.7131 - sparse_categorical_accuracy: 0.3684 - val_loss: 0.9303 - val_sparse_categorical_accuracy: 0.6777\n",
      "Epoch 2/20\n",
      "1500/1500 [==============================] - 27s 18ms/step - loss: 0.9537 - sparse_categorical_accuracy: 0.6773 - val_loss: 0.7604 - val_sparse_categorical_accuracy: 0.7461\n",
      "Epoch 3/20\n",
      "1500/1500 [==============================] - 27s 18ms/step - loss: 0.7917 - sparse_categorical_accuracy: 0.7339 - val_loss: 0.5991 - val_sparse_categorical_accuracy: 0.8027\n",
      "Epoch 4/20\n",
      "1500/1500 [==============================] - 27s 18ms/step - loss: 0.6866 - sparse_categorical_accuracy: 0.7755 - val_loss: 0.6042 - val_sparse_categorical_accuracy: 0.7925\n",
      "Epoch 5/20\n",
      "1500/1500 [==============================] - 27s 18ms/step - loss: 0.6112 - sparse_categorical_accuracy: 0.7987 - val_loss: 0.5664 - val_sparse_categorical_accuracy: 0.8138\n",
      "Epoch 6/20\n",
      "1500/1500 [==============================] - 27s 18ms/step - loss: 0.5464 - sparse_categorical_accuracy: 0.8255 - val_loss: 0.4490 - val_sparse_categorical_accuracy: 0.8437\n",
      "Epoch 7/20\n",
      "1500/1500 [==============================] - 27s 18ms/step - loss: 0.4963 - sparse_categorical_accuracy: 0.8412 - val_loss: 0.4444 - val_sparse_categorical_accuracy: 0.8536\n",
      "Epoch 8/20\n",
      "1500/1500 [==============================] - 27s 18ms/step - loss: 0.4540 - sparse_categorical_accuracy: 0.8561 - val_loss: 0.4169 - val_sparse_categorical_accuracy: 0.8618\n",
      "Epoch 9/20\n",
      "1500/1500 [==============================] - 27s 18ms/step - loss: 0.4150 - sparse_categorical_accuracy: 0.8704 - val_loss: 0.3526 - val_sparse_categorical_accuracy: 0.8840\n",
      "Epoch 10/20\n",
      "1500/1500 [==============================] - 27s 18ms/step - loss: 0.3650 - sparse_categorical_accuracy: 0.8860 - val_loss: 0.2603 - val_sparse_categorical_accuracy: 0.9162\n",
      "Epoch 11/20\n",
      "1500/1500 [==============================] - 27s 18ms/step - loss: 0.3166 - sparse_categorical_accuracy: 0.9032 - val_loss: 0.2334 - val_sparse_categorical_accuracy: 0.9243\n",
      "Epoch 12/20\n",
      "1500/1500 [==============================] - 27s 18ms/step - loss: 0.2839 - sparse_categorical_accuracy: 0.9155 - val_loss: 0.1858 - val_sparse_categorical_accuracy: 0.9416\n",
      "Epoch 13/20\n",
      "1500/1500 [==============================] - 27s 18ms/step - loss: 0.2610 - sparse_categorical_accuracy: 0.9200 - val_loss: 0.2725 - val_sparse_categorical_accuracy: 0.9087\n",
      "Epoch 14/20\n",
      "1500/1500 [==============================] - 27s 18ms/step - loss: 0.2443 - sparse_categorical_accuracy: 0.9260 - val_loss: 0.3478 - val_sparse_categorical_accuracy: 0.8907\n",
      "Epoch 15/20\n",
      "1500/1500 [==============================] - 27s 18ms/step - loss: 0.2292 - sparse_categorical_accuracy: 0.9308 - val_loss: 0.1734 - val_sparse_categorical_accuracy: 0.9433\n",
      "Epoch 16/20\n",
      "1500/1500 [==============================] - 27s 18ms/step - loss: 0.2200 - sparse_categorical_accuracy: 0.9339 - val_loss: 0.1619 - val_sparse_categorical_accuracy: 0.9498\n",
      "Epoch 17/20\n",
      "1500/1500 [==============================] - 27s 18ms/step - loss: 0.2056 - sparse_categorical_accuracy: 0.9393 - val_loss: 0.1860 - val_sparse_categorical_accuracy: 0.9381\n",
      "Epoch 18/20\n",
      "1500/1500 [==============================] - 27s 18ms/step - loss: 0.1910 - sparse_categorical_accuracy: 0.9430 - val_loss: 0.1577 - val_sparse_categorical_accuracy: 0.9508\n",
      "Epoch 19/20\n",
      "1500/1500 [==============================] - 27s 18ms/step - loss: 0.1861 - sparse_categorical_accuracy: 0.9444 - val_loss: 0.1611 - val_sparse_categorical_accuracy: 0.9498\n",
      "Epoch 20/20\n",
      "1500/1500 [==============================] - 27s 18ms/step - loss: 0.1809 - sparse_categorical_accuracy: 0.9463 - val_loss: 0.1400 - val_sparse_categorical_accuracy: 0.9577\n"
     ]
    }
   ],
   "source": [
    "with strategy.scope():\n",
    "    history = model.fit(x_train, y_train_labels, validation_split=0.2, epochs=20)"
   ]
  },
  {
   "cell_type": "code",
   "execution_count": 32,
   "id": "fb980a68-2f59-4d38-9d84-1bcc30080072",
   "metadata": {},
   "outputs": [
    {
     "name": "stdout",
     "output_type": "stream",
     "text": [
      "10000/10000 [==============================] - 37s 4ms/step - loss: 0.1323 - sparse_categorical_accuracy: 0.9604\n"
     ]
    }
   ],
   "source": [
    "with strategy.scope():\n",
    "    model.evaluate(x_test, y_test_labels, batch_size=1)"
   ]
  },
  {
   "cell_type": "code",
   "execution_count": 36,
   "id": "cab0c3c6-d86a-41f5-ab29-2862b162e4c4",
   "metadata": {},
   "outputs": [
    {
     "data": {
      "image/png": "[encoded data removed]",
      "text/plain": [
       "<Figure size 432x288 with 1 Axes>"
      ]
     },
     "metadata": {
      "needs_background": "light"
     },
     "output_type": "display_data"
    }
   ],
   "source": [
    "plt.plot(history.history[\"sparse_categorical_accuracy\"])\n",
    "plt.plot(history.history[\"val_sparse_categorical_accuracy\"])\n",
    "plt.legend([\"Training\", \"Validation\"])\n",
    "plt.show()"
   ]
  }
 ],
 "metadata": {
  "kernelspec": {
   "display_name": "Python 3 (λ)",
   "language": "python",
   "name": "lambda-stack"
  },
  "language_info": {
   "codemirror_mode": {
    "name": "ipython",
    "version": 3
   },
   "file_extension": ".py",
   "mimetype": "text/x-python",
   "name": "python",
   "nbconvert_exporter": "python",
   "pygments_lexer": "ipython3",
   "version": "3.8.10"
  }
 },
 "nbformat": 4,
 "nbformat_minor": 5
}
